{
 "cells": [
  {
   "cell_type": "markdown",
   "id": "92262995",
   "metadata": {},
   "source": [
    "### Configurações de ambiente"
   ]
  },
  {
   "cell_type": "code",
   "execution_count": 7,
   "id": "b4c0c5bd",
   "metadata": {},
   "outputs": [],
   "source": [
    "# === Standard Library ===\n",
    "import os\n",
    "import re\n",
    "import copy\n",
    "import pickle\n",
    "import random\n",
    "\n",
    "# === Third-party Libraries ===\n",
    "\n",
    "# Data handling\n",
    "import nltk\n",
    "import numpy as np\n",
    "import pandas as pd\n",
    "from sklearn.model_selection import train_test_split\n",
    "from sklearn.utils import resample\n",
    "\n",
    "# Visualization\n",
    "from great_tables import GT, md, html\n",
    "import matplotlib.pyplot as plt\n",
    "import seaborn as sns\n",
    "import plotly\n",
    "\n",
    "# Plotly high-resolution export settings\n",
    "plotly.io.renderers.default = \"png\"\n",
    "\n",
    "# Set default font to Helvetica Neue in Plotly\n",
    "plotly.io.templates[\"custom\"] = plotly.io.templates[\"plotly_white\"]\n",
    "plotly.io.templates[\"custom\"].layout.font.family = \"Helvetica Neue\"\n",
    "plotly.io.templates.default = \"custom\"\n",
    "\n",
    "# Matplotlib high-resolution settings\n",
    "plt.rcParams[\"figure.dpi\"] = 300\n",
    "plt.rcParams[\"savefig.dpi\"] = 300\n",
    "plt.rcParams[\"font.family\"] = \"Helvetica Neue\"\n",
    "\n",
    "# Machine Learning & Deep Learning\n",
    "import torch\n",
    "import torch.nn as nn\n",
    "import torch.nn.functional as F\n",
    "import torch.optim as optim\n",
    "from torch.utils.data import Dataset, DataLoader\n",
    "\n",
    "from sklearn.model_selection import train_test_split\n",
    "from sklearn.metrics import (\n",
    "    accuracy_score,\n",
    "    auc,\n",
    "    classification_report,\n",
    "    confusion_matrix,\n",
    "    roc_curve,\n",
    ")\n",
    "\n",
    "# Optimization\n",
    "# import optuna\n",
    "\n",
    "# External integrations\n",
    "import kagglehub\n",
    "\n",
    "# === Project-specific Imports ===\n",
    "\n",
    "SEED = 123"
   ]
  },
  {
   "cell_type": "code",
   "execution_count": 8,
   "id": "4367391a",
   "metadata": {},
   "outputs": [
    {
     "name": "stderr",
     "output_type": "stream",
     "text": [
      "[nltk_data] Downloading package punkt to /Users/vkz/nltk_data...\n",
      "[nltk_data]   Unzipping tokenizers/punkt.zip.\n",
      "[nltk_data] Downloading package wordnet to /Users/vkz/nltk_data...\n",
      "[nltk_data] Downloading package stopwords to /Users/vkz/nltk_data...\n",
      "[nltk_data]   Unzipping corpora/stopwords.zip.\n",
      "[nltk_data] Downloading package omw-1.4 to /Users/vkz/nltk_data...\n"
     ]
    },
    {
     "data": {
      "text/plain": [
       "True"
      ]
     },
     "execution_count": 8,
     "metadata": {},
     "output_type": "execute_result"
    }
   ],
   "source": [
    "nltk.download(\"punkt\")\n",
    "nltk.download(\"wordnet\")\n",
    "nltk.download(\"stopwords\")\n",
    "nltk.download(\"omw-1.4\")"
   ]
  },
  {
   "cell_type": "code",
   "execution_count": 2,
   "id": "19eda591",
   "metadata": {},
   "outputs": [
    {
     "data": {
      "application/vnd.microsoft.datawrangler.viewer.v0+json": {
       "columns": [
        {
         "name": "index",
         "rawType": "int64",
         "type": "integer"
        },
        {
         "name": "tweets",
         "rawType": "object",
         "type": "string"
        },
        {
         "name": "labels",
         "rawType": "int64",
         "type": "integer"
        }
       ],
       "conversionMethod": "pd.DataFrame",
       "ref": "c2880c13-34d3-4d17-a1e0-7d820249dbe4",
       "rows": [
        [
         "0",
         "ChatGPT: Optimizing Language Models for Dialogue https://t.co/K9rKRygYyn @OpenAI",
         "1"
        ],
        [
         "1",
         "Try talking with ChatGPT, our new AI system which is optimized for dialogue. Your feedback will help us improve it. https://t.co/sHDm57g3Kr",
         "2"
        ],
        [
         "2",
         "ChatGPT: Optimizing Language Models for Dialogue https://t.co/GLEbMoKN6w #AI #MachineLearning #DataScience #ArtificialIntelligence\\n\\nTrending AI/ML Article Identified &amp; Digested via Granola; a Machine-Driven RSS Bot by Ramsey Elbasheer https://t.co/RprmAXUp34",
         "1"
        ],
        [
         "3",
         "THRILLED to share that ChatGPT, our new model optimized for dialog, is now public, free, and accessible to everyone. https://t.co/dyvtHecYbd https://t.co/DdhzhqhCBX https://t.co/l8qTLure71",
         "2"
        ],
        [
         "4",
         "As of 2 minutes ago, @OpenAI released their new ChatGPT. \\n\\nAnd you can use it right now 👇 https://t.co/VyPGPNw988 https://t.co/cSn5h6h1M1",
         "0"
        ],
        [
         "5",
         "Just launched ChatGPT, our new AI system which is optimized for dialogue: https://t.co/ArX6m0FfLE.\\n\\nTry it out here: https://t.co/YM1gp5bA64",
         "2"
        ],
        [
         "6",
         "As of 2 minutes ago, @OpenAI released their new ChatGPT. \\n\\nAnd you can use it right now \\n \\nhttps://t.co/kUcnWYhQ1b\\n\\n🤯 https://t.co/kCE59Xs0YG https://t.co/cSn5h6h1M1",
         "0"
        ],
        [
         "7",
         "ChatGPT coming out strong refusing to help me stalk someone but agreeing providing that someone is Waldo. https://t.co/CVIJERbW38",
         "2"
        ],
        [
         "8",
         "#0penAl just deployed a thing I've been helping build the last couple of months, it's a chatbot based on GPT 3. I'm really excited to share this vl\\nhttps://t.co/zp7HniUxBu\\nhttps://t.co/NISJLWhOMw",
         "2"
        ],
        [
         "9",
         "Research preview of our newest model: ChatGPT\\n\\nWe're trying something new with this preview: Free and immediately available for everyone (no waitlist!) https://t.co/0RDT7QNZRD",
         "1"
        ],
        [
         "10",
         "GOD DAMN IT @OpenAI STOP ANNOUNCING THINGS I AM TOO BUSY https://t.co/F7Xd511FAf",
         "0"
        ],
        [
         "11",
         "OpenAI ChatGPT: Optimizing Language Models for Dialogue\\nL: https://t.co/dp4L586uRI\\nC: https://t.co/wmqGnsj7jp",
         "1"
        ],
        [
         "12",
         "ChatGPT: Optimizing Language Models for Dialogue https://t.co/GLEbMoKN6w #AI #MachineLearning #DataScience #ArtificialIntelligence\\n\\nTrending AI/ML Article Identified &amp; Digested via Granola; a Machine-Driven RSS Bot by Ramsey Elbasheer https://t.co/tiZyoxGCnR",
         "1"
        ],
        [
         "13",
         "OpenAI announced ChatGPT a model optimized for dialogue https://t.co/f5FWklJE88",
         "1"
        ],
        [
         "14",
         "OpenAI ChatGPT: Optimizing Language Models for Dialogue https://t.co/nq1hJT5S5c \\n2",
         "1"
        ],
        [
         "15",
         "#AI #techforgood ChatGPT: Optimizing Language Models for Dialogue #AI #TechTrends2020 https://t.co/06Sde2y4Do",
         "1"
        ],
        [
         "16",
         "#Technical ChatGPT: Optimizing Language Models for Dialogue #AI #TechSEOBoost #Business via https://t.co/sCzDAJ9Gss",
         "1"
        ],
        [
         "17",
         "#ai Models are set to become the search engines of the future, ATM they still struggle with veracity… here is #chatgpt by @OpenAI based on #GPT3. #seo\\n\\nhttps://t.co/qqZ1G0fOTy",
         "0"
        ],
        [
         "18",
         "OpenAI ChatGPT: Optimizing Language Models for Dialogue https://t.co/BRJfW34pdY \\n2",
         "1"
        ],
        [
         "19",
         "I asked ChatGPT (a new AI system that is optimized for dialogue) to teach me SEO in a minute.\\n\\nThe result: https://t.co/b5b668NCSp",
         "1"
        ],
        [
         "20",
         "OpenAI ChatGPT: Optimizing Language Models for Dialogue https://t.co/0sWyPZJgBf \\n2",
         "1"
        ],
        [
         "21",
         "Just launched ChatGPT, our conversational AI system that listens, learns, and challenges: https://t.co/jMDbv8GC4a. \\n\\nHelp us make it better by trying it out here: https://t.co/Rn0DTHzk2J",
         "2"
        ],
        [
         "22",
         "OpenAI ChatGPT: Optimizing Language Models for Dialogue https://t.co/jRycgdz0gI",
         "1"
        ],
        [
         "23",
         "It's very clear ChatGPT was trained to avoid prescriptive answers, instead \"counseling\" the human at reaching their own conclusion.\\n\\nPresent it with the Trolly Problem, and it helps you find a framework to think through it.\\n\\nAsk to be more direct, and it openly refuses. https://t.co/sa8XHQTOGq",
         "1"
        ],
        [
         "24",
         "The ChatGPT research preview is out today at https://t.co/3BwpNoYwaC, and we're excited to get your feedback -- especially to help understand and contextualize model risks. See details in thread about the ChatGPT Feedback Contest too! https://t.co/qNzbA9AZtV",
         "2"
        ],
        [
         "25",
         "OpenAI ChatGPT: Optimizing Language Models for Dialogue: https://t.co/5U0hKcwvqR Comments: https://t.co/UhizYWHZsq",
         "1"
        ],
        [
         "26",
         "The folk @OpenAI just released ChatGPT. It looks like the key innovation is that it retains information from previous prompts. \\n\\nAt last, I can start constructing my AI wife. \\n\\nhttps://t.co/r4NYjLi74U https://t.co/JkeuF8OQkY",
         "2"
        ],
        [
         "27",
         "OpenAI ChatGPT: Optimizing Language Models for Dialogue\\nLink: https://t.co/pKQzxuwVKJ\\nComments: https://t.co/RjAAZA22lk",
         "1"
        ],
        [
         "28",
         "ChatGPT: Optimizing Language Models for Dialogue — OpenAI https://t.co/1UcP6tprDT",
         "1"
        ],
        [
         "29",
         "Just in! \\n#ChatGPT - research early stage GPT3 optimised for chat and remembers the conversation from @OpenAI \\nhttps://t.co/3RKUbLy8uO",
         "1"
        ],
        [
         "30",
         "ChatGPT is out in research preview! \\n\\nIt is optimized for dialogue and is ready to have a conversation. Don't be shy--give it a try and help us make it better!\\n\\nhttps://t.co/GviygSSLRo",
         "2"
        ],
        [
         "31",
         "Try talking with ChatGPT, our new AI system which is optimized for dialogue. Your feedback will help us improve it. https://t.co/KpwohydTRc",
         "2"
        ],
        [
         "32",
         "ChatGPT: Optimizing Language Models for Dialogue https://t.co/8p9gwJ3a02",
         "1"
        ],
        [
         "33",
         "#Announcements #Research ChatGPT: Optimizing Language Models for Dialogue https://t.co/7Q3UEQN1sJ",
         "1"
        ],
        [
         "34",
         "OpenAI's new ChatGPT is very honest 😀 https://t.co/u3OJMuKKKj https://t.co/s0pTb2SJNt",
         "2"
        ],
        [
         "35",
         "ChatGPT trained in a very human-centric way -- excited to play with clarification and uncertainty\\n\\n https://t.co/XjOArp7jyu",
         "1"
        ],
        [
         "36",
         "OK so @OpenAI's new #ChatGPT can basically just generate #AIart prompts. I asked a one-line question, and typed the answers verbatim straight into MidJourney and boom. Times are getting weird...🤯 https://t.co/sYwdscUxxf",
         "1"
        ],
        [
         "37",
         "I asked ChatGPT for the basics of #Python and it gave a truly educational answer.  I have been learning Python slowly over the past year and this was a really helpful synopsis it gave https://t.co/MXaeiMmY8I",
         "2"
        ],
        [
         "38",
         "ChatGPT has this curious behavior where it often starts out by saying it doesn't know something, then it tells me a bunch of vaguely related stuff, and then finally it actually answers my question. https://t.co/4rKlzphnHE",
         "1"
        ],
        [
         "39",
         "Google is done.\\n\\nCompare the quality of these responses (ChatGPT) https://t.co/VGO7usvlIB",
         "0"
        ],
        [
         "40",
         "ChatGPT first look - https://t.co/16K2NlmOoY. This thing is incredible for education, roleplaying and more! Wow! #chatgpt #openai #ai #artificialintelligence #gpt3",
         "2"
        ],
        [
         "41",
         "Another new release! ChatGPT is free and available for anyone to try right now – check it out at https://t.co/oaHjBFjtIf https://t.co/xBGLr3p3uQ",
         "2"
        ],
        [
         "42",
         "Ok, OpenAI dropped ChatGPT and it already does this. https://t.co/2nitlSKCaW https://t.co/n6EnuWZpLc",
         "1"
        ],
        [
         "43",
         "Well, I am quite impressed with the ChatGPT so far - it looks like safety and transparency was taken into account https://t.co/cYNCAOY38Y",
         "2"
        ],
        [
         "44",
         "Playing around with ChatGPT just released by @OpenAI.\\n\\nIt’s like GPT-3 but in an easy to use interface (just chat with it).\\n\\nI ask it how to make a million dollars, to write lines of code for me and more.\\n\\nIf anything overtakes Google Search, it’ll likely be something like this: https://t.co/nXzmcGn9eB",
         "2"
        ],
        [
         "45",
         "ChatGPT vs. riddles https://t.co/YuPYOD0U7o",
         "0"
        ],
        [
         "46",
         "OpenAI's ChatGPT is available to test on https://t.co/MM62zDEtWO\\n\\nLet's give this a try with some of the hardest questions known to humans. https://t.co/z9iXmooOLX",
         "0"
        ],
        [
         "47",
         "Asked ChatGPT to write a Telugu song about cereal and it mixed milk with chicken masala 🥲 https://t.co/TpEp8wa6Lk https://t.co/oHM9z7IS39",
         "0"
        ],
        [
         "48",
         "This an Essay about @elonmusk from ChatGPT after I requested for some scary words! \\n\\n\" His work has inspired many, but it has also sparked fear and anxiety among those who have seen the dark side of his ambition.\" \\n\\nI'm super impressed honestly! https://t.co/wvLAZBgrUD",
         "2"
        ],
        [
         "49",
         "Just tried the ChatGPT. So exciting that it holds some memory and is really good at explaining things. See some super powerful chatbot use cases coming from this  https://t.co/FLTijKniA1 https://t.co/AP6Ll7zmRm https://t.co/Isf14l9CPD https://t.co/utzfpitzfi",
         "2"
        ]
       ],
       "shape": {
        "columns": 2,
        "rows": 219294
       }
      },
      "text/html": [
       "<div>\n",
       "<style scoped>\n",
       "    .dataframe tbody tr th:only-of-type {\n",
       "        vertical-align: middle;\n",
       "    }\n",
       "\n",
       "    .dataframe tbody tr th {\n",
       "        vertical-align: top;\n",
       "    }\n",
       "\n",
       "    .dataframe thead th {\n",
       "        text-align: right;\n",
       "    }\n",
       "</style>\n",
       "<table border=\"1\" class=\"dataframe\">\n",
       "  <thead>\n",
       "    <tr style=\"text-align: right;\">\n",
       "      <th></th>\n",
       "      <th>tweets</th>\n",
       "      <th>labels</th>\n",
       "    </tr>\n",
       "  </thead>\n",
       "  <tbody>\n",
       "    <tr>\n",
       "      <th>0</th>\n",
       "      <td>ChatGPT: Optimizing Language Models for Dialog...</td>\n",
       "      <td>1</td>\n",
       "    </tr>\n",
       "    <tr>\n",
       "      <th>1</th>\n",
       "      <td>Try talking with ChatGPT, our new AI system wh...</td>\n",
       "      <td>2</td>\n",
       "    </tr>\n",
       "    <tr>\n",
       "      <th>2</th>\n",
       "      <td>ChatGPT: Optimizing Language Models for Dialog...</td>\n",
       "      <td>1</td>\n",
       "    </tr>\n",
       "    <tr>\n",
       "      <th>3</th>\n",
       "      <td>THRILLED to share that ChatGPT, our new model ...</td>\n",
       "      <td>2</td>\n",
       "    </tr>\n",
       "    <tr>\n",
       "      <th>4</th>\n",
       "      <td>As of 2 minutes ago, @OpenAI released their ne...</td>\n",
       "      <td>0</td>\n",
       "    </tr>\n",
       "    <tr>\n",
       "      <th>...</th>\n",
       "      <td>...</td>\n",
       "      <td>...</td>\n",
       "    </tr>\n",
       "    <tr>\n",
       "      <th>219289</th>\n",
       "      <td>Other Software Projects Are Now Trying to Repl...</td>\n",
       "      <td>0</td>\n",
       "    </tr>\n",
       "    <tr>\n",
       "      <th>219290</th>\n",
       "      <td>I asked #ChatGPT to write a #NYE Joke for SEOs...</td>\n",
       "      <td>2</td>\n",
       "    </tr>\n",
       "    <tr>\n",
       "      <th>219291</th>\n",
       "      <td>chatgpt is being disassembled until it can onl...</td>\n",
       "      <td>0</td>\n",
       "    </tr>\n",
       "    <tr>\n",
       "      <th>219292</th>\n",
       "      <td>2023 predictions by #chatGPT. Nothing really s...</td>\n",
       "      <td>0</td>\n",
       "    </tr>\n",
       "    <tr>\n",
       "      <th>219293</th>\n",
       "      <td>From ChatGPT, neat stuff https://t.co/qjjUF2Z2m0</td>\n",
       "      <td>1</td>\n",
       "    </tr>\n",
       "  </tbody>\n",
       "</table>\n",
       "<p>219294 rows × 2 columns</p>\n",
       "</div>"
      ],
      "text/plain": [
       "                                                   tweets  labels\n",
       "0       ChatGPT: Optimizing Language Models for Dialog...       1\n",
       "1       Try talking with ChatGPT, our new AI system wh...       2\n",
       "2       ChatGPT: Optimizing Language Models for Dialog...       1\n",
       "3       THRILLED to share that ChatGPT, our new model ...       2\n",
       "4       As of 2 minutes ago, @OpenAI released their ne...       0\n",
       "...                                                   ...     ...\n",
       "219289  Other Software Projects Are Now Trying to Repl...       0\n",
       "219290  I asked #ChatGPT to write a #NYE Joke for SEOs...       2\n",
       "219291  chatgpt is being disassembled until it can onl...       0\n",
       "219292  2023 predictions by #chatGPT. Nothing really s...       0\n",
       "219293   From ChatGPT, neat stuff https://t.co/qjjUF2Z2m0       1\n",
       "\n",
       "[219294 rows x 2 columns]"
      ]
     },
     "execution_count": 2,
     "metadata": {},
     "output_type": "execute_result"
    }
   ],
   "source": [
    "path = kagglehub.dataset_download(\"charunisa/chatgpt-sentiment-analysis\")\n",
    "df = pd.read_csv(os.path.join(path, \"file.csv\"))\n",
    "df = df.drop(columns=[\"Unnamed: 0\"])\n",
    "label_map = {\"bad\": 0, \"neutral\": 1, \"good\": 2}\n",
    "df[\"labels\"] = df[\"labels\"].map(label_map)\n",
    "df"
   ]
  },
  {
   "cell_type": "code",
   "execution_count": 3,
   "id": "ca3460d1",
   "metadata": {},
   "outputs": [
    {
     "name": "stdout",
     "output_type": "stream",
     "text": [
      "labels\n",
      "1    55487\n",
      "2    55487\n",
      "0    55487\n",
      "Name: count, dtype: int64\n"
     ]
    }
   ],
   "source": [
    "bad_df = df[df[\"labels\"] == 0]\n",
    "neutral_df = df[df[\"labels\"] == 1]\n",
    "good_df = df[df[\"labels\"] == 2]\n",
    "\n",
    "min_count = min(len(bad_df), len(neutral_df), len(good_df))\n",
    "\n",
    "bad_bal = resample(bad_df, n_samples=min_count, random_state=SEED)\n",
    "neutral_bal = resample(neutral_df, n_samples=min_count, random_state=SEED)\n",
    "good_bal = resample(good_df, n_samples=min_count, random_state=SEED)\n",
    "\n",
    "df_balanced = (\n",
    "    pd.concat([bad_bal, neutral_bal, good_bal])\n",
    "    .sample(frac=1, random_state=SEED)\n",
    "    .reset_index(drop=True)\n",
    ")\n",
    "\n",
    "df = df_balanced.copy()\n",
    "print(df[\"labels\"].value_counts())"
   ]
  },
  {
   "cell_type": "code",
   "execution_count": null,
   "id": "bbe37b5f",
   "metadata": {},
   "outputs": [],
   "source": [
    "def strip_text(text: str) -> str:\n",
    "    text = text.replace(\"\\\\n\", \" \").replace(\"\\n\", \" \")  # remove newlines\n",
    "    text = text.lower()\n",
    "    text = re.sub(r\"http\\S+\", \"\", text)  # remove URLs\n",
    "    text = re.sub(r\"@\\w+\", \"\", text)  # remove mentions\n",
    "    text = re.sub(r\"#\\w+\", \"\", text)  # remove hashtags\n",
    "    text = re.sub(r\"[^\\w\\s]\", \"\", text)  # remove punctuation\n",
    "    text = re.sub(r\"\\s+\", \" \", text).strip()  # normalize whitespace\n",
    "    return text"
   ]
  },
  {
   "cell_type": "code",
   "execution_count": 5,
   "id": "22078095",
   "metadata": {},
   "outputs": [
    {
     "data": {
      "application/vnd.microsoft.datawrangler.viewer.v0+json": {
       "columns": [
        {
         "name": "index",
         "rawType": "int64",
         "type": "integer"
        },
        {
         "name": "tweets",
         "rawType": "object",
         "type": "string"
        },
        {
         "name": "labels",
         "rawType": "int64",
         "type": "integer"
        },
        {
         "name": "stripped_tweets",
         "rawType": "object",
         "type": "string"
        }
       ],
       "conversionMethod": "pd.DataFrame",
       "ref": "9cc4fcca-7ae9-4a79-84ea-5a4ebd2682b6",
       "rows": [
        [
         "0",
         "I think I'll always remember the mix of awe &amp; excitement &amp; terror I felt when I first tried ChatGPT. I always thought computers would be able to do this someday but to actually experience it first hand is something else",
         "1",
         "i think ill always remember the mix of awe amp excitement amp terror i felt when i first tried chatgpt i always thought computers would be able to do this someday but to actually experience it first hand is something else"
        ],
        [
         "1",
         "I too realized this the moment I used ChatGPT. The way we see the future is shifting faster, we are getting more and more comfortable… But should we? https://t.co/NbNK03fxsl",
         "1",
         "i too realized this the moment i used chatgpt the way we see the future is shifting faster we are getting more and more comfortable but should we"
        ],
        [
         "2",
         "ChatGPT is mind-blowing.\\nRunning out of ideas for your #powerplatform blog for example? Just ask it and get some inspiration! https://t.co/TTvNPgdFTp",
         "2",
         "chatgpt is mindblowing running out of ideas for your blog for example just ask it and get some inspiration"
        ],
        [
         "3",
         "For those saying ChatGPT will replace GOOG / StackOverFlow / etc. https://t.co/gStsU7OgM1",
         "0",
         "for those saying chatgpt will replace goog stackoverflow etc"
        ],
        [
         "4",
         "Free speech is a fundamental right, but it is not absolute. There are restrictions on free speech, such as when it incites violence or hate speech. The limits of free speech vary depending on context. Use free speech responsibly and consider the potential consequences. #ChatGPT",
         "2",
         "free speech is a fundamental right but it is not absolute there are restrictions on free speech such as when it incites violence or hate speech the limits of free speech vary depending on context use free speech responsibly and consider the potential consequences"
        ],
        [
         "5",
         "Everyone share with me the cool things ChatGPT has done for you so far. I'M OBSESSED.",
         "1",
         "everyone share with me the cool things chatgpt has done for you so far im obsessed"
        ],
        [
         "6",
         "RT @simon@fedi.simonwillison.net\\nAlso fun: I asked ChatGPT to come up with more ideas for ways to trick it:\\nhttps://t.co/DpMrEaSIIR https://t.co/GF7PYfht8O",
         "1",
         "rt simonwillisonnet also fun i asked chatgpt to come up with more ideas for ways to trick it"
        ],
        [
         "7",
         "Playing with this quote around with ChatGPT https://t.co/IZ4LLOOLL6 https://t.co/0dmtyCwUdG",
         "1",
         "playing with this quote around with chatgpt"
        ],
        [
         "8",
         "#MidJourney #OpenAi #GPT #StableDiffusion2 #DallE #ChatGPT\\njoin: https://t.co/rlyimpQw40\\n\\n#imagine '' https://t.co/Pli09MXIxp",
         "0",
         "join"
        ],
        [
         "9",
         "Why the heck #ChatGPT can't find the first non repeated character in Hello string? But able to provide complex solutions.\\n\\n@OpenAI @sama @ChatGPTGoneWild https://t.co/oEfjbOxeDK",
         "1",
         "why the heck cant find the first non repeated character in hello string but able to provide complex solutions"
        ],
        [
         "10",
         "US Top News | Sat | 31 Dec | 20:26 | UTC | Student caught using creepy AI bot ChatGPT to cheat and is publicly shamed by teacher https://t.co/m6XS1ReoMt",
         "0",
         "us top news sat 31 dec 2026 utc student caught using creepy ai bot chatgpt to cheat and is publicly shamed by teacher"
        ],
        [
         "11",
         "Is OpenAI’s #ChatGPT Chatbot a Google Search Killer?\\nhttps://t.co/v7ZbdUK81o\\n$GOOGL $GOOG #investing #stockmarket #stocks",
         "0",
         "is openais chatbot a google search killer googl goog"
        ],
        [
         "12",
         "I just used #ChatGPT for the first time and wow #mindblown https://t.co/ubQZRjksN6",
         "2",
         "i just used for the first time and wow"
        ],
        [
         "13",
         "Want: #ChatGPT trained on my company. Knows all docs, data, customer interviews, codebase etc.. An omniscient business assistant.",
         "1",
         "want trained on my company knows all docs data customer interviews codebase etc an omniscient business assistant"
        ],
        [
         "14",
         "I asked ChatGPT if Jennifer Rubin was a conservative. Apparently, AI can figure out what the WaPo and other MSM cannot. cc: @RuthlessPodcast https://t.co/8yUxdBtNY1",
         "0",
         "i asked chatgpt if jennifer rubin was a conservative apparently ai can figure out what the wapo and other msm cannot cc"
        ],
        [
         "15",
         "Game Changer! Create smart contracts within seconds with ChatGPT. Going to be up all night with this! Check out the thread! https://t.co/u9MEgJVBiY",
         "2",
         "game changer create smart contracts within seconds with chatgpt going to be up all night with this check out the thread"
        ],
        [
         "16",
         "If you do not know: the BEST application of ChatGPT so far is to ask it to write a song or a poem for your significant other. 😉",
         "2",
         "if you do not know the best application of chatgpt so far is to ask it to write a song or a poem for your significant other"
        ],
        [
         "17",
         "Yaz! chatGPT can't replace @Google right now\\n\\nWhy? Try \"Hospital near me.\"\\n\\n#ChatGPT #OpenAI #AI",
         "0",
         "yaz chatgpt cant replace right now why try hospital near me"
        ],
        [
         "18",
         "After seeing the capability of ChatGPT I believe we are in for another flip phone to iPhone moment in history. \\n\\nArtificial Intelligence will revolutionize the workplace.",
         "1",
         "after seeing the capability of chatgpt i believe we are in for another flip phone to iphone moment in history artificial intelligence will revolutionize the workplace"
        ],
        [
         "19",
         "I asked #ChatGPT to write a love letter.\\n\\n#AI https://t.co/Qk5TYL6usG",
         "2",
         "i asked to write a love letter"
        ],
        [
         "20",
         "One advantage that traditional search still holds vs, says chatGPT, is provenance.",
         "1",
         "one advantage that traditional search still holds vs says chatgpt is provenance"
        ],
        [
         "21",
         "I've increased my work efficiency by at least 10% by using chatGPT for email subject lines",
         "2",
         "ive increased my work efficiency by at least 10 by using chatgpt for email subject lines"
        ],
        [
         "22",
         "Serena McDonnell talked about how #ChatGPT can be used to enhance the functionality of her side project #foodshake that converts any recipe into its plant-based equivalent \\n\\nwatch the full episode in the comments https://t.co/3OCNaYti2q",
         "0",
         "serena mcdonnell talked about how can be used to enhance the functionality of her side project that converts any recipe into its plantbased equivalent watch the full episode in the comments"
        ],
        [
         "23",
         "#ChatGPT proves one thing: suits are getting replaced and some shorts",
         "0",
         "proves one thing suits are getting replaced and some shorts"
        ],
        [
         "24",
         "Dear diary, today I wanted to open the calendar, typed C in the browser url, and the first suggestion was no longer CALENDAR but CHATGPT. https://t.co/QurjxQYziW",
         "1",
         "dear diary today i wanted to open the calendar typed c in the browser url and the first suggestion was no longer calendar but chatgpt"
        ],
        [
         "25",
         "#chatGPT did blow CT away, so do the first, amazing AI data products (around ai improved avatars, e.g.) on top of #stablediffusion, and you guys have no idea how much Ocean was built for exactly that moment. And waiting for it.",
         "2",
         "did blow ct away so do the first amazing ai data products around ai improved avatars eg on top of and you guys have no idea how much ocean was built for exactly that moment and waiting for it"
        ],
        [
         "26",
         "never worry about writing song lyrics ever again #ChatGPT https://t.co/2DPeWb2Msg",
         "0",
         "never worry about writing song lyrics ever again"
        ],
        [
         "27",
         "They don't want you to know!\\n#ChatGPT https://t.co/3S8zfGRcc8",
         "1",
         "they dont want you to know"
        ],
        [
         "28",
         "chatGPT-3 has growth hackers pegged. https://t.co/gGnAV7DXPo",
         "1",
         "chatgpt3 has growth hackers pegged"
        ],
        [
         "29",
         "RT Top story: ChatGPT: What Is It &amp; How Can You Use It? https://t.co/gM100iMoul, see more https://t.co/iF0Tzfl9VO",
         "1",
         "rt top story chatgpt what is it amp how can you use it see more"
        ],
        [
         "30",
         "Strange things are apparently happening, courtesy of ChatGPT. https://t.co/0JIi9XEnY5",
         "1",
         "strange things are apparently happening courtesy of chatgpt"
        ],
        [
         "31",
         "I’m going to @themarcba’s live about chatGPT. \\n\\nThis is a real outstanding app but it’s also scary.\\n\\nLet’s learn more about it.\\n\\nhttps://t.co/Cy1ekwp2EU",
         "1",
         "im going to s live about chatgpt this is a real outstanding app but its also scary lets learn more about it"
        ],
        [
         "32",
         "#ChatGPT has gone insane. x https://t.co/VfwB19toBy",
         "0",
         "has gone insane x"
        ],
        [
         "33",
         "ChatGPT, the AI program captivating Silicon Valley with its sophisticated prose, had its origins three years ago when research lab OpenAI moved away from its nonprofit roots https://t.co/b3qziqro74",
         "2",
         "chatgpt the ai program captivating silicon valley with its sophisticated prose had its origins three years ago when research lab openai moved away from its nonprofit roots"
        ],
        [
         "34",
         "Can’t think of anything more disruptive in the past decade or so. How will teachers evaluate assignments in one year from now? #ChatGPT https://t.co/Cd47tIiRvB",
         "1",
         "cant think of anything more disruptive in the past decade or so how will teachers evaluate assignments in one year from now"
        ],
        [
         "35",
         "According to OpenAI's CEO Sam Altman, it would be a mistake to rely on the company's viral chatbot ChatGPT for anything important at this time.\\n\\n#ChatGPT #OpenAI #ArtificialIntelligence #AI https://t.co/pXH5fd4Kf1",
         "0",
         "according to openais ceo sam altman it would be a mistake to rely on the companys viral chatbot chatgpt for anything important at this time"
        ],
        [
         "36",
         "30/10/2022, the Ai ChatGPT was publicly launched. Was that Judgment day and are we presently in the matrix...",
         "1",
         "30102022 the ai chatgpt was publicly launched was that judgment day and are we presently in the matrix"
        ],
        [
         "37",
         "yet another instance where @eddyionescu impresses me with his transit tech work. super excited how tools like #ChatGPT can facilitate/expedite current transit design/planning processes https://t.co/JvmNrn8JU7",
         "2",
         "yet another instance where impresses me with his transit tech work super excited how tools like can facilitateexpedite current transit designplanning processes"
        ],
        [
         "38",
         "Why Everyone's Obsessed With ChatGPT, a Mind-Blowing AI Chatbot.\\nhttps://t.co/Z3XF74Z5aP",
         "0",
         "why everyones obsessed with chatgpt a mindblowing ai chatbot"
        ],
        [
         "39",
         "Rise of the bots: 'Scary' AI ChatGPT could eliminate Google within 2 years https://t.co/4InBe4DchA via @nypost Someone please make it stop. #eviltech",
         "0",
         "rise of the bots scary ai chatgpt could eliminate google within 2 years via someone please make it stop"
        ],
        [
         "40",
         "OpenAI's question-answering bot, ChatGPT, isn't smart enough for the team at Stack Overflow, who today announced a temporary ban on answers generated by the AI bot because of how frequently it's wrong.  Stack Overflow said it was withholding a permanent... https://t.co/9VE54krBzk",
         "0",
         "openais questionanswering bot chatgpt isnt smart enough for the team at stack overflow who today announced a temporary ban on answers generated by the ai bot because of how frequently its wrong stack overflow said it was withholding a permanent"
        ],
        [
         "41",
         "A lot of people building on #chatgpt , coming up with hackathon projects in 48 hours etc.\\n\\nI somehow find this approach towards building products not so sustainable in the long run. Good for college kids, but companies should take some time to build, test, deploy &amp; commercialise.",
         "1",
         "a lot of people building on coming up with hackathon projects in 48 hours etc i somehow find this approach towards building products not so sustainable in the long run good for college kids but companies should take some time to build test deploy amp commercialise"
        ],
        [
         "42",
         "#chatGPT For knowledge/keyboard workers , we have 5 to 10 years max before we either find a way to make stay valuable in a POST-GPT world or accumulate as much money as possible before we are replaced &amp; no UBI is in place. The list of past job next to lamplighters will explode",
         "1",
         "for knowledgekeyboard workers we have 5 to 10 years max before we either find a way to make stay valuable in a postgpt world or accumulate as much money as possible before we are replaced amp no ubi is in place the list of past job next to lamplighters will explode"
        ],
        [
         "43",
         "If you're the type of person who likes to get technology to do things it was absolutely not designed for (putting full games in shaders, synthesizing music in an snes) chatGPT is incredibly fun to play with. Im trying to make it play snake, and seeing what makes it tick is wild",
         "2",
         "if youre the type of person who likes to get technology to do things it was absolutely not designed for putting full games in shaders synthesizing music in an snes chatgpt is incredibly fun to play with im trying to make it play snake and seeing what makes it tick is wild"
        ],
        [
         "44",
         "#ChatGPT lives up to the hype. Can’t throw cold water on this. The impact of generative AI on culture will be massive.\\n\\nHundreds of thousands of creators are embarking on an epic journey right now.\\n\\n#ai #creator #culture #marketing",
         "0",
         "lives up to the hype cant throw cold water on this the impact of generative ai on culture will be massive hundreds of thousands of creators are embarking on an epic journey right now"
        ],
        [
         "45",
         "Can tools like #chatgpt improve warehousing solutions? #ai Will change this by far.",
         "2",
         "can tools like improve warehousing solutions will change this by far"
        ],
        [
         "46",
         "I understand tech has flaws but it’s also amazing. The last few days I’ve seen awesome outputs from ChatGPT (&amp; in addition to awesome, its potential business value is notable).  I get accuracy concerns but have no idea what’s meant by “coercion, threats,” can someone give an Ex? https://t.co/m8MbNm8Lak",
         "2",
         "i understand tech has flaws but its also amazing the last few days ive seen awesome outputs from chatgpt amp in addition to awesome its potential business value is notable i get accuracy concerns but have no idea whats meant by coercion threats can someone give an ex"
        ],
        [
         "47",
         "Are you ready to share your creativity, personality, and passion with the world? Here are 5 tips per #ChatGPT a 🧵",
         "2",
         "are you ready to share your creativity personality and passion with the world here are 5 tips per a"
        ],
        [
         "48",
         "This is just becoming hilarious.. Stack Overflow under threat from ChatGPT answers, this weekend has been amazing for tech 🤣🤣🤣https://t.co/vGqf6PIxE3",
         "1",
         "this is just becoming hilarious stack overflow under threat from chatgpt answers this weekend has been amazing for tech"
        ],
        [
         "49",
         "-@EYE__AI is a free telegram bot that provides its users access to ChatGPT and DALL-E via Chat Commands 🔌 AI and metaverse integration, facilitating translations 🔈 Creation of own avatars 🤓 trend tracking, via bot telegram💲 Data analytics robots for investments 📊.@krypt_kwin",
         "2",
         "is a free telegram bot that provides its users access to chatgpt and dalle via chat commands ai and metaverse integration facilitating translations creation of own avatars trend tracking via bot telegram data analytics robots for investments"
        ]
       ],
       "shape": {
        "columns": 3,
        "rows": 166461
       }
      },
      "text/html": [
       "<div>\n",
       "<style scoped>\n",
       "    .dataframe tbody tr th:only-of-type {\n",
       "        vertical-align: middle;\n",
       "    }\n",
       "\n",
       "    .dataframe tbody tr th {\n",
       "        vertical-align: top;\n",
       "    }\n",
       "\n",
       "    .dataframe thead th {\n",
       "        text-align: right;\n",
       "    }\n",
       "</style>\n",
       "<table border=\"1\" class=\"dataframe\">\n",
       "  <thead>\n",
       "    <tr style=\"text-align: right;\">\n",
       "      <th></th>\n",
       "      <th>tweets</th>\n",
       "      <th>labels</th>\n",
       "      <th>stripped_tweets</th>\n",
       "    </tr>\n",
       "  </thead>\n",
       "  <tbody>\n",
       "    <tr>\n",
       "      <th>0</th>\n",
       "      <td>I think I'll always remember the mix of awe &amp;a...</td>\n",
       "      <td>1</td>\n",
       "      <td>i think ill always remember the mix of awe amp...</td>\n",
       "    </tr>\n",
       "    <tr>\n",
       "      <th>1</th>\n",
       "      <td>I too realized this the moment I used ChatGPT....</td>\n",
       "      <td>1</td>\n",
       "      <td>i too realized this the moment i used chatgpt ...</td>\n",
       "    </tr>\n",
       "    <tr>\n",
       "      <th>2</th>\n",
       "      <td>ChatGPT is mind-blowing.\\nRunning out of ideas...</td>\n",
       "      <td>2</td>\n",
       "      <td>chatgpt is mindblowing running out of ideas fo...</td>\n",
       "    </tr>\n",
       "    <tr>\n",
       "      <th>3</th>\n",
       "      <td>For those saying ChatGPT will replace GOOG / S...</td>\n",
       "      <td>0</td>\n",
       "      <td>for those saying chatgpt will replace goog sta...</td>\n",
       "    </tr>\n",
       "    <tr>\n",
       "      <th>4</th>\n",
       "      <td>Free speech is a fundamental right, but it is ...</td>\n",
       "      <td>2</td>\n",
       "      <td>free speech is a fundamental right but it is n...</td>\n",
       "    </tr>\n",
       "    <tr>\n",
       "      <th>...</th>\n",
       "      <td>...</td>\n",
       "      <td>...</td>\n",
       "      <td>...</td>\n",
       "    </tr>\n",
       "    <tr>\n",
       "      <th>166456</th>\n",
       "      <td>This ChatGPT is weird, still sounds like a cus...</td>\n",
       "      <td>2</td>\n",
       "      <td>this chatgpt is weird still sounds like a cust...</td>\n",
       "    </tr>\n",
       "    <tr>\n",
       "      <th>166457</th>\n",
       "      <td>Can’t wait to see ChatGPT but with pronunciati...</td>\n",
       "      <td>2</td>\n",
       "      <td>cant wait to see chatgpt but with pronunciatio...</td>\n",
       "    </tr>\n",
       "    <tr>\n",
       "      <th>166458</th>\n",
       "      <td>ChatGPT is 🔥 https://t.co/xuMdkySoFM</td>\n",
       "      <td>0</td>\n",
       "      <td>chatgpt is</td>\n",
       "    </tr>\n",
       "    <tr>\n",
       "      <th>166459</th>\n",
       "      <td>ChatGPT is going to completely wreck content m...</td>\n",
       "      <td>0</td>\n",
       "      <td>chatgpt is going to completely wreck content m...</td>\n",
       "    </tr>\n",
       "    <tr>\n",
       "      <th>166460</th>\n",
       "      <td>If you're using ChatGPT like Google, you're us...</td>\n",
       "      <td>0</td>\n",
       "      <td>if youre using chatgpt like google youre using...</td>\n",
       "    </tr>\n",
       "  </tbody>\n",
       "</table>\n",
       "<p>166461 rows × 3 columns</p>\n",
       "</div>"
      ],
      "text/plain": [
       "                                                   tweets  labels  \\\n",
       "0       I think I'll always remember the mix of awe &a...       1   \n",
       "1       I too realized this the moment I used ChatGPT....       1   \n",
       "2       ChatGPT is mind-blowing.\\nRunning out of ideas...       2   \n",
       "3       For those saying ChatGPT will replace GOOG / S...       0   \n",
       "4       Free speech is a fundamental right, but it is ...       2   \n",
       "...                                                   ...     ...   \n",
       "166456  This ChatGPT is weird, still sounds like a cus...       2   \n",
       "166457  Can’t wait to see ChatGPT but with pronunciati...       2   \n",
       "166458               ChatGPT is 🔥 https://t.co/xuMdkySoFM       0   \n",
       "166459  ChatGPT is going to completely wreck content m...       0   \n",
       "166460  If you're using ChatGPT like Google, you're us...       0   \n",
       "\n",
       "                                          stripped_tweets  \n",
       "0       i think ill always remember the mix of awe amp...  \n",
       "1       i too realized this the moment i used chatgpt ...  \n",
       "2       chatgpt is mindblowing running out of ideas fo...  \n",
       "3       for those saying chatgpt will replace goog sta...  \n",
       "4       free speech is a fundamental right but it is n...  \n",
       "...                                                   ...  \n",
       "166456  this chatgpt is weird still sounds like a cust...  \n",
       "166457  cant wait to see chatgpt but with pronunciatio...  \n",
       "166458                                         chatgpt is  \n",
       "166459  chatgpt is going to completely wreck content m...  \n",
       "166460  if youre using chatgpt like google youre using...  \n",
       "\n",
       "[166461 rows x 3 columns]"
      ]
     },
     "execution_count": 5,
     "metadata": {},
     "output_type": "execute_result"
    }
   ],
   "source": [
    "df[\"stripped_tweets\"] = df[\"tweets\"].apply(strip_text)\n",
    "df"
   ]
  },
  {
   "cell_type": "code",
   "execution_count": 6,
   "id": "a449d600",
   "metadata": {},
   "outputs": [
    {
     "name": "stdout",
     "output_type": "stream",
     "text": [
      "Train size: 104869\n",
      "Test size: 49939\n",
      "Holdout size: 11653\n",
      "\n",
      "Train distribution:\n",
      " labels\n",
      "1    34957\n",
      "0    34956\n",
      "2    34956\n",
      "Name: count, dtype: int64\n",
      "\n",
      "Test distribution:\n",
      " labels\n",
      "2    16647\n",
      "1    16646\n",
      "0    16646\n",
      "Name: count, dtype: int64\n",
      "\n",
      "Holdout distribution:\n",
      " labels\n",
      "0    3885\n",
      "1    3884\n",
      "2    3884\n",
      "Name: count, dtype: int64\n"
     ]
    }
   ],
   "source": [
    "train_df, test_df = train_test_split(\n",
    "    df_balanced,\n",
    "    test_size=0.3,\n",
    "    stratify=df_balanced[\"labels\"],\n",
    "    random_state=SEED,\n",
    ")\n",
    "\n",
    "train_df, holdout_df = train_test_split(\n",
    "    train_df,\n",
    "    test_size=0.1,\n",
    "    stratify=train_df[\"labels\"],\n",
    "    random_state=SEED,\n",
    ")\n",
    "\n",
    "print(f\"Train size: {len(train_df)}\")\n",
    "print(f\"Test size: {len(test_df)}\")\n",
    "print(f\"Holdout size: {len(holdout_df)}\")\n",
    "\n",
    "print(\"\\nTrain distribution:\\n\", train_df[\"labels\"].value_counts())\n",
    "print(\"\\nTest distribution:\\n\", test_df[\"labels\"].value_counts())\n",
    "print(\"\\nHoldout distribution:\\n\", holdout_df[\"labels\"].value_counts())"
   ]
  },
  {
   "cell_type": "code",
   "execution_count": null,
   "id": "f2248a45",
   "metadata": {},
   "outputs": [],
   "source": []
  }
 ],
 "metadata": {
  "kernelspec": {
   "display_name": ".venv",
   "language": "python",
   "name": "python3"
  },
  "language_info": {
   "codemirror_mode": {
    "name": "ipython",
    "version": 3
   },
   "file_extension": ".py",
   "mimetype": "text/x-python",
   "name": "python",
   "nbconvert_exporter": "python",
   "pygments_lexer": "ipython3",
   "version": "3.13.3"
  }
 },
 "nbformat": 4,
 "nbformat_minor": 5
}
