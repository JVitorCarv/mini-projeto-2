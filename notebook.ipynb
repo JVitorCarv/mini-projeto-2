{
 "cells": [
  {
   "cell_type": "markdown",
   "id": "92262995",
   "metadata": {},
   "source": [
    "### Configurações de ambiente"
   ]
  },
  {
   "cell_type": "code",
   "execution_count": null,
   "id": "b4c0c5bd",
   "metadata": {},
   "outputs": [
    {
     "name": "stderr",
     "output_type": "stream",
     "text": [
      "/Users/vkz/mini-projeto-2/.venv/lib/python3.13/site-packages/tqdm/auto.py:21: TqdmWarning:\n",
      "\n",
      "IProgress not found. Please update jupyter and ipywidgets. See https://ipywidgets.readthedocs.io/en/stable/user_install.html\n",
      "\n"
     ]
    }
   ],
   "source": [
    "# === Standard Library ===\n",
    "import json\n",
    "import os\n",
    "import re\n",
    "import string\n",
    "import copy\n",
    "import random\n",
    "\n",
    "# === Third-party Libraries ===\n",
    "\n",
    "# Data handling\n",
    "import nltk\n",
    "import numpy as np\n",
    "import pandas as pd\n",
    "from nltk.corpus import stopwords\n",
    "from nltk.tokenize import TreebankWordTokenizer\n",
    "from nltk.stem import WordNetLemmatizer\n",
    "from sklearn.model_selection import train_test_split\n",
    "from sklearn.utils import resample\n",
    "\n",
    "# Visualization\n",
    "from great_tables import GT, md, html\n",
    "from pprint import pprint\n",
    "import matplotlib.pyplot as plt\n",
    "import seaborn as sns\n",
    "import plotly\n",
    "\n",
    "# Plotly high-resolution export settings\n",
    "plotly.io.renderers.default = \"png\"\n",
    "\n",
    "# Set default font to Helvetica Neue in Plotly\n",
    "plotly.io.templates[\"custom\"] = plotly.io.templates[\"plotly_white\"]\n",
    "plotly.io.templates[\"custom\"].layout.font.family = \"Helvetica Neue\"\n",
    "plotly.io.templates.default = \"custom\"\n",
    "\n",
    "# Matplotlib high-resolution settings\n",
    "plt.rcParams[\"figure.dpi\"] = 300\n",
    "plt.rcParams[\"savefig.dpi\"] = 300\n",
    "plt.rcParams[\"font.family\"] = \"Helvetica Neue\"\n",
    "\n",
    "# Machine Learning & Deep Learning\n",
    "import torch\n",
    "import torch.nn as nn\n",
    "import torch.nn.functional as F\n",
    "import torch.optim as optim\n",
    "from torch.nn.utils.rnn import pad_sequence\n",
    "from torch.utils.data import Dataset, DataLoader\n",
    "\n",
    "from sklearn.model_selection import train_test_split\n",
    "from sklearn.metrics import (\n",
    "    accuracy_score,\n",
    "    auc,\n",
    "    classification_report,\n",
    "    confusion_matrix,\n",
    "    roc_auc_score,\n",
    ")\n",
    "\n",
    "# Optimization\n",
    "# import optuna\n",
    "\n",
    "# External integrations\n",
    "import kagglehub\n",
    "\n",
    "# === Project-specific Imports ===\n",
    "SEED = 123"
   ]
  },
  {
   "cell_type": "code",
   "execution_count": 2,
   "id": "367048a3",
   "metadata": {},
   "outputs": [
    {
     "data": {
      "text/plain": [
       "device(type='mps')"
      ]
     },
     "execution_count": 2,
     "metadata": {},
     "output_type": "execute_result"
    }
   ],
   "source": [
    "device = torch.device(\"mps\" if torch.backends.mps.is_available() else \"cpu\")\n",
    "device"
   ]
  },
  {
   "cell_type": "code",
   "execution_count": 3,
   "id": "4367391a",
   "metadata": {},
   "outputs": [
    {
     "name": "stderr",
     "output_type": "stream",
     "text": [
      "[nltk_data] Downloading package punkt to /Users/vkz/nltk_data...\n",
      "[nltk_data]   Package punkt is already up-to-date!\n",
      "[nltk_data] Downloading package wordnet to /Users/vkz/nltk_data...\n",
      "[nltk_data]   Package wordnet is already up-to-date!\n",
      "[nltk_data] Downloading package stopwords to /Users/vkz/nltk_data...\n",
      "[nltk_data]   Package stopwords is already up-to-date!\n",
      "[nltk_data] Downloading package omw-1.4 to /Users/vkz/nltk_data...\n",
      "[nltk_data]   Package omw-1.4 is already up-to-date!\n"
     ]
    },
    {
     "data": {
      "text/plain": [
       "True"
      ]
     },
     "execution_count": 3,
     "metadata": {},
     "output_type": "execute_result"
    }
   ],
   "source": [
    "nltk.download(\"punkt\")\n",
    "nltk.download(\"wordnet\")\n",
    "nltk.download(\"stopwords\")\n",
    "nltk.download(\"omw-1.4\")"
   ]
  },
  {
   "cell_type": "code",
   "execution_count": 4,
   "id": "0da5f705",
   "metadata": {},
   "outputs": [],
   "source": [
    "nltk.data.path.append(\"/Users/vkz/nltk_data\")"
   ]
  },
  {
   "cell_type": "code",
   "execution_count": 5,
   "id": "5e8d436f",
   "metadata": {},
   "outputs": [],
   "source": [
    "stop_words = set(stopwords.words(\"english\"))\n",
    "lemmatizer = WordNetLemmatizer()"
   ]
  },
  {
   "cell_type": "code",
   "execution_count": 6,
   "id": "19eda591",
   "metadata": {},
   "outputs": [
    {
     "data": {
      "application/vnd.microsoft.datawrangler.viewer.v0+json": {
       "columns": [
        {
         "name": "index",
         "rawType": "int64",
         "type": "integer"
        },
        {
         "name": "tweets",
         "rawType": "object",
         "type": "string"
        },
        {
         "name": "labels",
         "rawType": "int64",
         "type": "integer"
        }
       ],
       "conversionMethod": "pd.DataFrame",
       "ref": "ed65a3a1-ae51-4d29-bbc2-9857756b80be",
       "rows": [
        [
         "0",
         "ChatGPT: Optimizing Language Models for Dialogue https://t.co/K9rKRygYyn @OpenAI",
         "1"
        ],
        [
         "1",
         "Try talking with ChatGPT, our new AI system which is optimized for dialogue. Your feedback will help us improve it. https://t.co/sHDm57g3Kr",
         "2"
        ],
        [
         "2",
         "ChatGPT: Optimizing Language Models for Dialogue https://t.co/GLEbMoKN6w #AI #MachineLearning #DataScience #ArtificialIntelligence\\n\\nTrending AI/ML Article Identified &amp; Digested via Granola; a Machine-Driven RSS Bot by Ramsey Elbasheer https://t.co/RprmAXUp34",
         "1"
        ],
        [
         "3",
         "THRILLED to share that ChatGPT, our new model optimized for dialog, is now public, free, and accessible to everyone. https://t.co/dyvtHecYbd https://t.co/DdhzhqhCBX https://t.co/l8qTLure71",
         "2"
        ],
        [
         "4",
         "As of 2 minutes ago, @OpenAI released their new ChatGPT. \\n\\nAnd you can use it right now 👇 https://t.co/VyPGPNw988 https://t.co/cSn5h6h1M1",
         "0"
        ],
        [
         "5",
         "Just launched ChatGPT, our new AI system which is optimized for dialogue: https://t.co/ArX6m0FfLE.\\n\\nTry it out here: https://t.co/YM1gp5bA64",
         "2"
        ],
        [
         "6",
         "As of 2 minutes ago, @OpenAI released their new ChatGPT. \\n\\nAnd you can use it right now \\n \\nhttps://t.co/kUcnWYhQ1b\\n\\n🤯 https://t.co/kCE59Xs0YG https://t.co/cSn5h6h1M1",
         "0"
        ],
        [
         "7",
         "ChatGPT coming out strong refusing to help me stalk someone but agreeing providing that someone is Waldo. https://t.co/CVIJERbW38",
         "2"
        ],
        [
         "8",
         "#0penAl just deployed a thing I've been helping build the last couple of months, it's a chatbot based on GPT 3. I'm really excited to share this vl\\nhttps://t.co/zp7HniUxBu\\nhttps://t.co/NISJLWhOMw",
         "2"
        ],
        [
         "9",
         "Research preview of our newest model: ChatGPT\\n\\nWe're trying something new with this preview: Free and immediately available for everyone (no waitlist!) https://t.co/0RDT7QNZRD",
         "1"
        ],
        [
         "10",
         "GOD DAMN IT @OpenAI STOP ANNOUNCING THINGS I AM TOO BUSY https://t.co/F7Xd511FAf",
         "0"
        ],
        [
         "11",
         "OpenAI ChatGPT: Optimizing Language Models for Dialogue\\nL: https://t.co/dp4L586uRI\\nC: https://t.co/wmqGnsj7jp",
         "1"
        ],
        [
         "12",
         "ChatGPT: Optimizing Language Models for Dialogue https://t.co/GLEbMoKN6w #AI #MachineLearning #DataScience #ArtificialIntelligence\\n\\nTrending AI/ML Article Identified &amp; Digested via Granola; a Machine-Driven RSS Bot by Ramsey Elbasheer https://t.co/tiZyoxGCnR",
         "1"
        ],
        [
         "13",
         "OpenAI announced ChatGPT a model optimized for dialogue https://t.co/f5FWklJE88",
         "1"
        ],
        [
         "14",
         "OpenAI ChatGPT: Optimizing Language Models for Dialogue https://t.co/nq1hJT5S5c \\n2",
         "1"
        ],
        [
         "15",
         "#AI #techforgood ChatGPT: Optimizing Language Models for Dialogue #AI #TechTrends2020 https://t.co/06Sde2y4Do",
         "1"
        ],
        [
         "16",
         "#Technical ChatGPT: Optimizing Language Models for Dialogue #AI #TechSEOBoost #Business via https://t.co/sCzDAJ9Gss",
         "1"
        ],
        [
         "17",
         "#ai Models are set to become the search engines of the future, ATM they still struggle with veracity… here is #chatgpt by @OpenAI based on #GPT3. #seo\\n\\nhttps://t.co/qqZ1G0fOTy",
         "0"
        ],
        [
         "18",
         "OpenAI ChatGPT: Optimizing Language Models for Dialogue https://t.co/BRJfW34pdY \\n2",
         "1"
        ],
        [
         "19",
         "I asked ChatGPT (a new AI system that is optimized for dialogue) to teach me SEO in a minute.\\n\\nThe result: https://t.co/b5b668NCSp",
         "1"
        ],
        [
         "20",
         "OpenAI ChatGPT: Optimizing Language Models for Dialogue https://t.co/0sWyPZJgBf \\n2",
         "1"
        ],
        [
         "21",
         "Just launched ChatGPT, our conversational AI system that listens, learns, and challenges: https://t.co/jMDbv8GC4a. \\n\\nHelp us make it better by trying it out here: https://t.co/Rn0DTHzk2J",
         "2"
        ],
        [
         "22",
         "OpenAI ChatGPT: Optimizing Language Models for Dialogue https://t.co/jRycgdz0gI",
         "1"
        ],
        [
         "23",
         "It's very clear ChatGPT was trained to avoid prescriptive answers, instead \"counseling\" the human at reaching their own conclusion.\\n\\nPresent it with the Trolly Problem, and it helps you find a framework to think through it.\\n\\nAsk to be more direct, and it openly refuses. https://t.co/sa8XHQTOGq",
         "1"
        ],
        [
         "24",
         "The ChatGPT research preview is out today at https://t.co/3BwpNoYwaC, and we're excited to get your feedback -- especially to help understand and contextualize model risks. See details in thread about the ChatGPT Feedback Contest too! https://t.co/qNzbA9AZtV",
         "2"
        ],
        [
         "25",
         "OpenAI ChatGPT: Optimizing Language Models for Dialogue: https://t.co/5U0hKcwvqR Comments: https://t.co/UhizYWHZsq",
         "1"
        ],
        [
         "26",
         "The folk @OpenAI just released ChatGPT. It looks like the key innovation is that it retains information from previous prompts. \\n\\nAt last, I can start constructing my AI wife. \\n\\nhttps://t.co/r4NYjLi74U https://t.co/JkeuF8OQkY",
         "2"
        ],
        [
         "27",
         "OpenAI ChatGPT: Optimizing Language Models for Dialogue\\nLink: https://t.co/pKQzxuwVKJ\\nComments: https://t.co/RjAAZA22lk",
         "1"
        ],
        [
         "28",
         "ChatGPT: Optimizing Language Models for Dialogue — OpenAI https://t.co/1UcP6tprDT",
         "1"
        ],
        [
         "29",
         "Just in! \\n#ChatGPT - research early stage GPT3 optimised for chat and remembers the conversation from @OpenAI \\nhttps://t.co/3RKUbLy8uO",
         "1"
        ],
        [
         "30",
         "ChatGPT is out in research preview! \\n\\nIt is optimized for dialogue and is ready to have a conversation. Don't be shy--give it a try and help us make it better!\\n\\nhttps://t.co/GviygSSLRo",
         "2"
        ],
        [
         "31",
         "Try talking with ChatGPT, our new AI system which is optimized for dialogue. Your feedback will help us improve it. https://t.co/KpwohydTRc",
         "2"
        ],
        [
         "32",
         "ChatGPT: Optimizing Language Models for Dialogue https://t.co/8p9gwJ3a02",
         "1"
        ],
        [
         "33",
         "#Announcements #Research ChatGPT: Optimizing Language Models for Dialogue https://t.co/7Q3UEQN1sJ",
         "1"
        ],
        [
         "34",
         "OpenAI's new ChatGPT is very honest 😀 https://t.co/u3OJMuKKKj https://t.co/s0pTb2SJNt",
         "2"
        ],
        [
         "35",
         "ChatGPT trained in a very human-centric way -- excited to play with clarification and uncertainty\\n\\n https://t.co/XjOArp7jyu",
         "1"
        ],
        [
         "36",
         "OK so @OpenAI's new #ChatGPT can basically just generate #AIart prompts. I asked a one-line question, and typed the answers verbatim straight into MidJourney and boom. Times are getting weird...🤯 https://t.co/sYwdscUxxf",
         "1"
        ],
        [
         "37",
         "I asked ChatGPT for the basics of #Python and it gave a truly educational answer.  I have been learning Python slowly over the past year and this was a really helpful synopsis it gave https://t.co/MXaeiMmY8I",
         "2"
        ],
        [
         "38",
         "ChatGPT has this curious behavior where it often starts out by saying it doesn't know something, then it tells me a bunch of vaguely related stuff, and then finally it actually answers my question. https://t.co/4rKlzphnHE",
         "1"
        ],
        [
         "39",
         "Google is done.\\n\\nCompare the quality of these responses (ChatGPT) https://t.co/VGO7usvlIB",
         "0"
        ],
        [
         "40",
         "ChatGPT first look - https://t.co/16K2NlmOoY. This thing is incredible for education, roleplaying and more! Wow! #chatgpt #openai #ai #artificialintelligence #gpt3",
         "2"
        ],
        [
         "41",
         "Another new release! ChatGPT is free and available for anyone to try right now – check it out at https://t.co/oaHjBFjtIf https://t.co/xBGLr3p3uQ",
         "2"
        ],
        [
         "42",
         "Ok, OpenAI dropped ChatGPT and it already does this. https://t.co/2nitlSKCaW https://t.co/n6EnuWZpLc",
         "1"
        ],
        [
         "43",
         "Well, I am quite impressed with the ChatGPT so far - it looks like safety and transparency was taken into account https://t.co/cYNCAOY38Y",
         "2"
        ],
        [
         "44",
         "Playing around with ChatGPT just released by @OpenAI.\\n\\nIt’s like GPT-3 but in an easy to use interface (just chat with it).\\n\\nI ask it how to make a million dollars, to write lines of code for me and more.\\n\\nIf anything overtakes Google Search, it’ll likely be something like this: https://t.co/nXzmcGn9eB",
         "2"
        ],
        [
         "45",
         "ChatGPT vs. riddles https://t.co/YuPYOD0U7o",
         "0"
        ],
        [
         "46",
         "OpenAI's ChatGPT is available to test on https://t.co/MM62zDEtWO\\n\\nLet's give this a try with some of the hardest questions known to humans. https://t.co/z9iXmooOLX",
         "0"
        ],
        [
         "47",
         "Asked ChatGPT to write a Telugu song about cereal and it mixed milk with chicken masala 🥲 https://t.co/TpEp8wa6Lk https://t.co/oHM9z7IS39",
         "0"
        ],
        [
         "48",
         "This an Essay about @elonmusk from ChatGPT after I requested for some scary words! \\n\\n\" His work has inspired many, but it has also sparked fear and anxiety among those who have seen the dark side of his ambition.\" \\n\\nI'm super impressed honestly! https://t.co/wvLAZBgrUD",
         "2"
        ],
        [
         "49",
         "Just tried the ChatGPT. So exciting that it holds some memory and is really good at explaining things. See some super powerful chatbot use cases coming from this  https://t.co/FLTijKniA1 https://t.co/AP6Ll7zmRm https://t.co/Isf14l9CPD https://t.co/utzfpitzfi",
         "2"
        ]
       ],
       "shape": {
        "columns": 2,
        "rows": 219294
       }
      },
      "text/html": [
       "<div>\n",
       "<style scoped>\n",
       "    .dataframe tbody tr th:only-of-type {\n",
       "        vertical-align: middle;\n",
       "    }\n",
       "\n",
       "    .dataframe tbody tr th {\n",
       "        vertical-align: top;\n",
       "    }\n",
       "\n",
       "    .dataframe thead th {\n",
       "        text-align: right;\n",
       "    }\n",
       "</style>\n",
       "<table border=\"1\" class=\"dataframe\">\n",
       "  <thead>\n",
       "    <tr style=\"text-align: right;\">\n",
       "      <th></th>\n",
       "      <th>tweets</th>\n",
       "      <th>labels</th>\n",
       "    </tr>\n",
       "  </thead>\n",
       "  <tbody>\n",
       "    <tr>\n",
       "      <th>0</th>\n",
       "      <td>ChatGPT: Optimizing Language Models for Dialog...</td>\n",
       "      <td>1</td>\n",
       "    </tr>\n",
       "    <tr>\n",
       "      <th>1</th>\n",
       "      <td>Try talking with ChatGPT, our new AI system wh...</td>\n",
       "      <td>2</td>\n",
       "    </tr>\n",
       "    <tr>\n",
       "      <th>2</th>\n",
       "      <td>ChatGPT: Optimizing Language Models for Dialog...</td>\n",
       "      <td>1</td>\n",
       "    </tr>\n",
       "    <tr>\n",
       "      <th>3</th>\n",
       "      <td>THRILLED to share that ChatGPT, our new model ...</td>\n",
       "      <td>2</td>\n",
       "    </tr>\n",
       "    <tr>\n",
       "      <th>4</th>\n",
       "      <td>As of 2 minutes ago, @OpenAI released their ne...</td>\n",
       "      <td>0</td>\n",
       "    </tr>\n",
       "    <tr>\n",
       "      <th>...</th>\n",
       "      <td>...</td>\n",
       "      <td>...</td>\n",
       "    </tr>\n",
       "    <tr>\n",
       "      <th>219289</th>\n",
       "      <td>Other Software Projects Are Now Trying to Repl...</td>\n",
       "      <td>0</td>\n",
       "    </tr>\n",
       "    <tr>\n",
       "      <th>219290</th>\n",
       "      <td>I asked #ChatGPT to write a #NYE Joke for SEOs...</td>\n",
       "      <td>2</td>\n",
       "    </tr>\n",
       "    <tr>\n",
       "      <th>219291</th>\n",
       "      <td>chatgpt is being disassembled until it can onl...</td>\n",
       "      <td>0</td>\n",
       "    </tr>\n",
       "    <tr>\n",
       "      <th>219292</th>\n",
       "      <td>2023 predictions by #chatGPT. Nothing really s...</td>\n",
       "      <td>0</td>\n",
       "    </tr>\n",
       "    <tr>\n",
       "      <th>219293</th>\n",
       "      <td>From ChatGPT, neat stuff https://t.co/qjjUF2Z2m0</td>\n",
       "      <td>1</td>\n",
       "    </tr>\n",
       "  </tbody>\n",
       "</table>\n",
       "<p>219294 rows × 2 columns</p>\n",
       "</div>"
      ],
      "text/plain": [
       "                                                   tweets  labels\n",
       "0       ChatGPT: Optimizing Language Models for Dialog...       1\n",
       "1       Try talking with ChatGPT, our new AI system wh...       2\n",
       "2       ChatGPT: Optimizing Language Models for Dialog...       1\n",
       "3       THRILLED to share that ChatGPT, our new model ...       2\n",
       "4       As of 2 minutes ago, @OpenAI released their ne...       0\n",
       "...                                                   ...     ...\n",
       "219289  Other Software Projects Are Now Trying to Repl...       0\n",
       "219290  I asked #ChatGPT to write a #NYE Joke for SEOs...       2\n",
       "219291  chatgpt is being disassembled until it can onl...       0\n",
       "219292  2023 predictions by #chatGPT. Nothing really s...       0\n",
       "219293   From ChatGPT, neat stuff https://t.co/qjjUF2Z2m0       1\n",
       "\n",
       "[219294 rows x 2 columns]"
      ]
     },
     "execution_count": 6,
     "metadata": {},
     "output_type": "execute_result"
    }
   ],
   "source": [
    "path = kagglehub.dataset_download(\"charunisa/chatgpt-sentiment-analysis\")\n",
    "df = pd.read_csv(os.path.join(path, \"file.csv\"))\n",
    "df = df.drop(columns=[\"Unnamed: 0\"])\n",
    "label_map = {\"bad\": 0, \"neutral\": 1, \"good\": 2}\n",
    "df[\"labels\"] = df[\"labels\"].map(label_map)\n",
    "df"
   ]
  },
  {
   "cell_type": "code",
   "execution_count": 7,
   "id": "ca3460d1",
   "metadata": {},
   "outputs": [
    {
     "name": "stdout",
     "output_type": "stream",
     "text": [
      "labels\n",
      "1    55487\n",
      "2    55487\n",
      "0    55487\n",
      "Name: count, dtype: int64\n"
     ]
    }
   ],
   "source": [
    "bad_df = df[df[\"labels\"] == 0]\n",
    "neutral_df = df[df[\"labels\"] == 1]\n",
    "good_df = df[df[\"labels\"] == 2]\n",
    "\n",
    "min_count = min(len(bad_df), len(neutral_df), len(good_df))\n",
    "\n",
    "bad_bal = resample(bad_df, n_samples=min_count, random_state=SEED)\n",
    "neutral_bal = resample(neutral_df, n_samples=min_count, random_state=SEED)\n",
    "good_bal = resample(good_df, n_samples=min_count, random_state=SEED)\n",
    "\n",
    "df_balanced = (\n",
    "    pd.concat([bad_bal, neutral_bal, good_bal])\n",
    "    .sample(frac=1, random_state=SEED)\n",
    "    .reset_index(drop=True)\n",
    ")\n",
    "\n",
    "df = df_balanced.copy()\n",
    "print(df[\"labels\"].value_counts())"
   ]
  },
  {
   "cell_type": "code",
   "execution_count": 8,
   "id": "bbe37b5f",
   "metadata": {},
   "outputs": [],
   "source": [
    "def strip_text(text: str) -> str:\n",
    "    text = text.replace(\"\\\\n\", \" \").replace(\"\\n\", \" \")  # remove newlines\n",
    "    text = text.lower()\n",
    "    text = re.sub(r\"http\\S+\", \"\", text)  # remove URLs\n",
    "    text = re.sub(r\"@\\w+\", \"\", text)  # remove mentions\n",
    "    text = re.sub(r\"#\\w+\", \"\", text)  # remove hashtags\n",
    "    text = re.sub(r\"[^\\w\\s]\", \"\", text)  # remove punctuation\n",
    "    text = re.sub(r\"\\s+\", \" \", text).strip()  # normalize whitespace\n",
    "    return text"
   ]
  },
  {
   "cell_type": "code",
   "execution_count": 9,
   "id": "22078095",
   "metadata": {},
   "outputs": [
    {
     "data": {
      "application/vnd.microsoft.datawrangler.viewer.v0+json": {
       "columns": [
        {
         "name": "index",
         "rawType": "int64",
         "type": "integer"
        },
        {
         "name": "tweets",
         "rawType": "object",
         "type": "string"
        },
        {
         "name": "labels",
         "rawType": "int64",
         "type": "integer"
        },
        {
         "name": "stripped_tweets",
         "rawType": "object",
         "type": "string"
        }
       ],
       "conversionMethod": "pd.DataFrame",
       "ref": "922877f6-39bf-46e9-849c-d7ed1835dc22",
       "rows": [
        [
         "0",
         "I think I'll always remember the mix of awe &amp; excitement &amp; terror I felt when I first tried ChatGPT. I always thought computers would be able to do this someday but to actually experience it first hand is something else",
         "1",
         "i think ill always remember the mix of awe amp excitement amp terror i felt when i first tried chatgpt i always thought computers would be able to do this someday but to actually experience it first hand is something else"
        ],
        [
         "1",
         "I too realized this the moment I used ChatGPT. The way we see the future is shifting faster, we are getting more and more comfortable… But should we? https://t.co/NbNK03fxsl",
         "1",
         "i too realized this the moment i used chatgpt the way we see the future is shifting faster we are getting more and more comfortable but should we"
        ],
        [
         "2",
         "ChatGPT is mind-blowing.\\nRunning out of ideas for your #powerplatform blog for example? Just ask it and get some inspiration! https://t.co/TTvNPgdFTp",
         "2",
         "chatgpt is mindblowing running out of ideas for your blog for example just ask it and get some inspiration"
        ],
        [
         "3",
         "For those saying ChatGPT will replace GOOG / StackOverFlow / etc. https://t.co/gStsU7OgM1",
         "0",
         "for those saying chatgpt will replace goog stackoverflow etc"
        ],
        [
         "4",
         "Free speech is a fundamental right, but it is not absolute. There are restrictions on free speech, such as when it incites violence or hate speech. The limits of free speech vary depending on context. Use free speech responsibly and consider the potential consequences. #ChatGPT",
         "2",
         "free speech is a fundamental right but it is not absolute there are restrictions on free speech such as when it incites violence or hate speech the limits of free speech vary depending on context use free speech responsibly and consider the potential consequences"
        ],
        [
         "5",
         "Everyone share with me the cool things ChatGPT has done for you so far. I'M OBSESSED.",
         "1",
         "everyone share with me the cool things chatgpt has done for you so far im obsessed"
        ],
        [
         "6",
         "RT @simon@fedi.simonwillison.net\\nAlso fun: I asked ChatGPT to come up with more ideas for ways to trick it:\\nhttps://t.co/DpMrEaSIIR https://t.co/GF7PYfht8O",
         "1",
         "rt simonwillisonnet also fun i asked chatgpt to come up with more ideas for ways to trick it"
        ],
        [
         "7",
         "Playing with this quote around with ChatGPT https://t.co/IZ4LLOOLL6 https://t.co/0dmtyCwUdG",
         "1",
         "playing with this quote around with chatgpt"
        ],
        [
         "8",
         "#MidJourney #OpenAi #GPT #StableDiffusion2 #DallE #ChatGPT\\njoin: https://t.co/rlyimpQw40\\n\\n#imagine '' https://t.co/Pli09MXIxp",
         "0",
         "join"
        ],
        [
         "9",
         "Why the heck #ChatGPT can't find the first non repeated character in Hello string? But able to provide complex solutions.\\n\\n@OpenAI @sama @ChatGPTGoneWild https://t.co/oEfjbOxeDK",
         "1",
         "why the heck cant find the first non repeated character in hello string but able to provide complex solutions"
        ],
        [
         "10",
         "US Top News | Sat | 31 Dec | 20:26 | UTC | Student caught using creepy AI bot ChatGPT to cheat and is publicly shamed by teacher https://t.co/m6XS1ReoMt",
         "0",
         "us top news sat 31 dec 2026 utc student caught using creepy ai bot chatgpt to cheat and is publicly shamed by teacher"
        ],
        [
         "11",
         "Is OpenAI’s #ChatGPT Chatbot a Google Search Killer?\\nhttps://t.co/v7ZbdUK81o\\n$GOOGL $GOOG #investing #stockmarket #stocks",
         "0",
         "is openais chatbot a google search killer googl goog"
        ],
        [
         "12",
         "I just used #ChatGPT for the first time and wow #mindblown https://t.co/ubQZRjksN6",
         "2",
         "i just used for the first time and wow"
        ],
        [
         "13",
         "Want: #ChatGPT trained on my company. Knows all docs, data, customer interviews, codebase etc.. An omniscient business assistant.",
         "1",
         "want trained on my company knows all docs data customer interviews codebase etc an omniscient business assistant"
        ],
        [
         "14",
         "I asked ChatGPT if Jennifer Rubin was a conservative. Apparently, AI can figure out what the WaPo and other MSM cannot. cc: @RuthlessPodcast https://t.co/8yUxdBtNY1",
         "0",
         "i asked chatgpt if jennifer rubin was a conservative apparently ai can figure out what the wapo and other msm cannot cc"
        ],
        [
         "15",
         "Game Changer! Create smart contracts within seconds with ChatGPT. Going to be up all night with this! Check out the thread! https://t.co/u9MEgJVBiY",
         "2",
         "game changer create smart contracts within seconds with chatgpt going to be up all night with this check out the thread"
        ],
        [
         "16",
         "If you do not know: the BEST application of ChatGPT so far is to ask it to write a song or a poem for your significant other. 😉",
         "2",
         "if you do not know the best application of chatgpt so far is to ask it to write a song or a poem for your significant other"
        ],
        [
         "17",
         "Yaz! chatGPT can't replace @Google right now\\n\\nWhy? Try \"Hospital near me.\"\\n\\n#ChatGPT #OpenAI #AI",
         "0",
         "yaz chatgpt cant replace right now why try hospital near me"
        ],
        [
         "18",
         "After seeing the capability of ChatGPT I believe we are in for another flip phone to iPhone moment in history. \\n\\nArtificial Intelligence will revolutionize the workplace.",
         "1",
         "after seeing the capability of chatgpt i believe we are in for another flip phone to iphone moment in history artificial intelligence will revolutionize the workplace"
        ],
        [
         "19",
         "I asked #ChatGPT to write a love letter.\\n\\n#AI https://t.co/Qk5TYL6usG",
         "2",
         "i asked to write a love letter"
        ],
        [
         "20",
         "One advantage that traditional search still holds vs, says chatGPT, is provenance.",
         "1",
         "one advantage that traditional search still holds vs says chatgpt is provenance"
        ],
        [
         "21",
         "I've increased my work efficiency by at least 10% by using chatGPT for email subject lines",
         "2",
         "ive increased my work efficiency by at least 10 by using chatgpt for email subject lines"
        ],
        [
         "22",
         "Serena McDonnell talked about how #ChatGPT can be used to enhance the functionality of her side project #foodshake that converts any recipe into its plant-based equivalent \\n\\nwatch the full episode in the comments https://t.co/3OCNaYti2q",
         "0",
         "serena mcdonnell talked about how can be used to enhance the functionality of her side project that converts any recipe into its plantbased equivalent watch the full episode in the comments"
        ],
        [
         "23",
         "#ChatGPT proves one thing: suits are getting replaced and some shorts",
         "0",
         "proves one thing suits are getting replaced and some shorts"
        ],
        [
         "24",
         "Dear diary, today I wanted to open the calendar, typed C in the browser url, and the first suggestion was no longer CALENDAR but CHATGPT. https://t.co/QurjxQYziW",
         "1",
         "dear diary today i wanted to open the calendar typed c in the browser url and the first suggestion was no longer calendar but chatgpt"
        ],
        [
         "25",
         "#chatGPT did blow CT away, so do the first, amazing AI data products (around ai improved avatars, e.g.) on top of #stablediffusion, and you guys have no idea how much Ocean was built for exactly that moment. And waiting for it.",
         "2",
         "did blow ct away so do the first amazing ai data products around ai improved avatars eg on top of and you guys have no idea how much ocean was built for exactly that moment and waiting for it"
        ],
        [
         "26",
         "never worry about writing song lyrics ever again #ChatGPT https://t.co/2DPeWb2Msg",
         "0",
         "never worry about writing song lyrics ever again"
        ],
        [
         "27",
         "They don't want you to know!\\n#ChatGPT https://t.co/3S8zfGRcc8",
         "1",
         "they dont want you to know"
        ],
        [
         "28",
         "chatGPT-3 has growth hackers pegged. https://t.co/gGnAV7DXPo",
         "1",
         "chatgpt3 has growth hackers pegged"
        ],
        [
         "29",
         "RT Top story: ChatGPT: What Is It &amp; How Can You Use It? https://t.co/gM100iMoul, see more https://t.co/iF0Tzfl9VO",
         "1",
         "rt top story chatgpt what is it amp how can you use it see more"
        ],
        [
         "30",
         "Strange things are apparently happening, courtesy of ChatGPT. https://t.co/0JIi9XEnY5",
         "1",
         "strange things are apparently happening courtesy of chatgpt"
        ],
        [
         "31",
         "I’m going to @themarcba’s live about chatGPT. \\n\\nThis is a real outstanding app but it’s also scary.\\n\\nLet’s learn more about it.\\n\\nhttps://t.co/Cy1ekwp2EU",
         "1",
         "im going to s live about chatgpt this is a real outstanding app but its also scary lets learn more about it"
        ],
        [
         "32",
         "#ChatGPT has gone insane. x https://t.co/VfwB19toBy",
         "0",
         "has gone insane x"
        ],
        [
         "33",
         "ChatGPT, the AI program captivating Silicon Valley with its sophisticated prose, had its origins three years ago when research lab OpenAI moved away from its nonprofit roots https://t.co/b3qziqro74",
         "2",
         "chatgpt the ai program captivating silicon valley with its sophisticated prose had its origins three years ago when research lab openai moved away from its nonprofit roots"
        ],
        [
         "34",
         "Can’t think of anything more disruptive in the past decade or so. How will teachers evaluate assignments in one year from now? #ChatGPT https://t.co/Cd47tIiRvB",
         "1",
         "cant think of anything more disruptive in the past decade or so how will teachers evaluate assignments in one year from now"
        ],
        [
         "35",
         "According to OpenAI's CEO Sam Altman, it would be a mistake to rely on the company's viral chatbot ChatGPT for anything important at this time.\\n\\n#ChatGPT #OpenAI #ArtificialIntelligence #AI https://t.co/pXH5fd4Kf1",
         "0",
         "according to openais ceo sam altman it would be a mistake to rely on the companys viral chatbot chatgpt for anything important at this time"
        ],
        [
         "36",
         "30/10/2022, the Ai ChatGPT was publicly launched. Was that Judgment day and are we presently in the matrix...",
         "1",
         "30102022 the ai chatgpt was publicly launched was that judgment day and are we presently in the matrix"
        ],
        [
         "37",
         "yet another instance where @eddyionescu impresses me with his transit tech work. super excited how tools like #ChatGPT can facilitate/expedite current transit design/planning processes https://t.co/JvmNrn8JU7",
         "2",
         "yet another instance where impresses me with his transit tech work super excited how tools like can facilitateexpedite current transit designplanning processes"
        ],
        [
         "38",
         "Why Everyone's Obsessed With ChatGPT, a Mind-Blowing AI Chatbot.\\nhttps://t.co/Z3XF74Z5aP",
         "0",
         "why everyones obsessed with chatgpt a mindblowing ai chatbot"
        ],
        [
         "39",
         "Rise of the bots: 'Scary' AI ChatGPT could eliminate Google within 2 years https://t.co/4InBe4DchA via @nypost Someone please make it stop. #eviltech",
         "0",
         "rise of the bots scary ai chatgpt could eliminate google within 2 years via someone please make it stop"
        ],
        [
         "40",
         "OpenAI's question-answering bot, ChatGPT, isn't smart enough for the team at Stack Overflow, who today announced a temporary ban on answers generated by the AI bot because of how frequently it's wrong.  Stack Overflow said it was withholding a permanent... https://t.co/9VE54krBzk",
         "0",
         "openais questionanswering bot chatgpt isnt smart enough for the team at stack overflow who today announced a temporary ban on answers generated by the ai bot because of how frequently its wrong stack overflow said it was withholding a permanent"
        ],
        [
         "41",
         "A lot of people building on #chatgpt , coming up with hackathon projects in 48 hours etc.\\n\\nI somehow find this approach towards building products not so sustainable in the long run. Good for college kids, but companies should take some time to build, test, deploy &amp; commercialise.",
         "1",
         "a lot of people building on coming up with hackathon projects in 48 hours etc i somehow find this approach towards building products not so sustainable in the long run good for college kids but companies should take some time to build test deploy amp commercialise"
        ],
        [
         "42",
         "#chatGPT For knowledge/keyboard workers , we have 5 to 10 years max before we either find a way to make stay valuable in a POST-GPT world or accumulate as much money as possible before we are replaced &amp; no UBI is in place. The list of past job next to lamplighters will explode",
         "1",
         "for knowledgekeyboard workers we have 5 to 10 years max before we either find a way to make stay valuable in a postgpt world or accumulate as much money as possible before we are replaced amp no ubi is in place the list of past job next to lamplighters will explode"
        ],
        [
         "43",
         "If you're the type of person who likes to get technology to do things it was absolutely not designed for (putting full games in shaders, synthesizing music in an snes) chatGPT is incredibly fun to play with. Im trying to make it play snake, and seeing what makes it tick is wild",
         "2",
         "if youre the type of person who likes to get technology to do things it was absolutely not designed for putting full games in shaders synthesizing music in an snes chatgpt is incredibly fun to play with im trying to make it play snake and seeing what makes it tick is wild"
        ],
        [
         "44",
         "#ChatGPT lives up to the hype. Can’t throw cold water on this. The impact of generative AI on culture will be massive.\\n\\nHundreds of thousands of creators are embarking on an epic journey right now.\\n\\n#ai #creator #culture #marketing",
         "0",
         "lives up to the hype cant throw cold water on this the impact of generative ai on culture will be massive hundreds of thousands of creators are embarking on an epic journey right now"
        ],
        [
         "45",
         "Can tools like #chatgpt improve warehousing solutions? #ai Will change this by far.",
         "2",
         "can tools like improve warehousing solutions will change this by far"
        ],
        [
         "46",
         "I understand tech has flaws but it’s also amazing. The last few days I’ve seen awesome outputs from ChatGPT (&amp; in addition to awesome, its potential business value is notable).  I get accuracy concerns but have no idea what’s meant by “coercion, threats,” can someone give an Ex? https://t.co/m8MbNm8Lak",
         "2",
         "i understand tech has flaws but its also amazing the last few days ive seen awesome outputs from chatgpt amp in addition to awesome its potential business value is notable i get accuracy concerns but have no idea whats meant by coercion threats can someone give an ex"
        ],
        [
         "47",
         "Are you ready to share your creativity, personality, and passion with the world? Here are 5 tips per #ChatGPT a 🧵",
         "2",
         "are you ready to share your creativity personality and passion with the world here are 5 tips per a"
        ],
        [
         "48",
         "This is just becoming hilarious.. Stack Overflow under threat from ChatGPT answers, this weekend has been amazing for tech 🤣🤣🤣https://t.co/vGqf6PIxE3",
         "1",
         "this is just becoming hilarious stack overflow under threat from chatgpt answers this weekend has been amazing for tech"
        ],
        [
         "49",
         "-@EYE__AI is a free telegram bot that provides its users access to ChatGPT and DALL-E via Chat Commands 🔌 AI and metaverse integration, facilitating translations 🔈 Creation of own avatars 🤓 trend tracking, via bot telegram💲 Data analytics robots for investments 📊.@krypt_kwin",
         "2",
         "is a free telegram bot that provides its users access to chatgpt and dalle via chat commands ai and metaverse integration facilitating translations creation of own avatars trend tracking via bot telegram data analytics robots for investments"
        ]
       ],
       "shape": {
        "columns": 3,
        "rows": 166461
       }
      },
      "text/html": [
       "<div>\n",
       "<style scoped>\n",
       "    .dataframe tbody tr th:only-of-type {\n",
       "        vertical-align: middle;\n",
       "    }\n",
       "\n",
       "    .dataframe tbody tr th {\n",
       "        vertical-align: top;\n",
       "    }\n",
       "\n",
       "    .dataframe thead th {\n",
       "        text-align: right;\n",
       "    }\n",
       "</style>\n",
       "<table border=\"1\" class=\"dataframe\">\n",
       "  <thead>\n",
       "    <tr style=\"text-align: right;\">\n",
       "      <th></th>\n",
       "      <th>tweets</th>\n",
       "      <th>labels</th>\n",
       "      <th>stripped_tweets</th>\n",
       "    </tr>\n",
       "  </thead>\n",
       "  <tbody>\n",
       "    <tr>\n",
       "      <th>0</th>\n",
       "      <td>I think I'll always remember the mix of awe &amp;a...</td>\n",
       "      <td>1</td>\n",
       "      <td>i think ill always remember the mix of awe amp...</td>\n",
       "    </tr>\n",
       "    <tr>\n",
       "      <th>1</th>\n",
       "      <td>I too realized this the moment I used ChatGPT....</td>\n",
       "      <td>1</td>\n",
       "      <td>i too realized this the moment i used chatgpt ...</td>\n",
       "    </tr>\n",
       "    <tr>\n",
       "      <th>2</th>\n",
       "      <td>ChatGPT is mind-blowing.\\nRunning out of ideas...</td>\n",
       "      <td>2</td>\n",
       "      <td>chatgpt is mindblowing running out of ideas fo...</td>\n",
       "    </tr>\n",
       "    <tr>\n",
       "      <th>3</th>\n",
       "      <td>For those saying ChatGPT will replace GOOG / S...</td>\n",
       "      <td>0</td>\n",
       "      <td>for those saying chatgpt will replace goog sta...</td>\n",
       "    </tr>\n",
       "    <tr>\n",
       "      <th>4</th>\n",
       "      <td>Free speech is a fundamental right, but it is ...</td>\n",
       "      <td>2</td>\n",
       "      <td>free speech is a fundamental right but it is n...</td>\n",
       "    </tr>\n",
       "    <tr>\n",
       "      <th>...</th>\n",
       "      <td>...</td>\n",
       "      <td>...</td>\n",
       "      <td>...</td>\n",
       "    </tr>\n",
       "    <tr>\n",
       "      <th>166456</th>\n",
       "      <td>This ChatGPT is weird, still sounds like a cus...</td>\n",
       "      <td>2</td>\n",
       "      <td>this chatgpt is weird still sounds like a cust...</td>\n",
       "    </tr>\n",
       "    <tr>\n",
       "      <th>166457</th>\n",
       "      <td>Can’t wait to see ChatGPT but with pronunciati...</td>\n",
       "      <td>2</td>\n",
       "      <td>cant wait to see chatgpt but with pronunciatio...</td>\n",
       "    </tr>\n",
       "    <tr>\n",
       "      <th>166458</th>\n",
       "      <td>ChatGPT is 🔥 https://t.co/xuMdkySoFM</td>\n",
       "      <td>0</td>\n",
       "      <td>chatgpt is</td>\n",
       "    </tr>\n",
       "    <tr>\n",
       "      <th>166459</th>\n",
       "      <td>ChatGPT is going to completely wreck content m...</td>\n",
       "      <td>0</td>\n",
       "      <td>chatgpt is going to completely wreck content m...</td>\n",
       "    </tr>\n",
       "    <tr>\n",
       "      <th>166460</th>\n",
       "      <td>If you're using ChatGPT like Google, you're us...</td>\n",
       "      <td>0</td>\n",
       "      <td>if youre using chatgpt like google youre using...</td>\n",
       "    </tr>\n",
       "  </tbody>\n",
       "</table>\n",
       "<p>166461 rows × 3 columns</p>\n",
       "</div>"
      ],
      "text/plain": [
       "                                                   tweets  labels  \\\n",
       "0       I think I'll always remember the mix of awe &a...       1   \n",
       "1       I too realized this the moment I used ChatGPT....       1   \n",
       "2       ChatGPT is mind-blowing.\\nRunning out of ideas...       2   \n",
       "3       For those saying ChatGPT will replace GOOG / S...       0   \n",
       "4       Free speech is a fundamental right, but it is ...       2   \n",
       "...                                                   ...     ...   \n",
       "166456  This ChatGPT is weird, still sounds like a cus...       2   \n",
       "166457  Can’t wait to see ChatGPT but with pronunciati...       2   \n",
       "166458               ChatGPT is 🔥 https://t.co/xuMdkySoFM       0   \n",
       "166459  ChatGPT is going to completely wreck content m...       0   \n",
       "166460  If you're using ChatGPT like Google, you're us...       0   \n",
       "\n",
       "                                          stripped_tweets  \n",
       "0       i think ill always remember the mix of awe amp...  \n",
       "1       i too realized this the moment i used chatgpt ...  \n",
       "2       chatgpt is mindblowing running out of ideas fo...  \n",
       "3       for those saying chatgpt will replace goog sta...  \n",
       "4       free speech is a fundamental right but it is n...  \n",
       "...                                                   ...  \n",
       "166456  this chatgpt is weird still sounds like a cust...  \n",
       "166457  cant wait to see chatgpt but with pronunciatio...  \n",
       "166458                                         chatgpt is  \n",
       "166459  chatgpt is going to completely wreck content m...  \n",
       "166460  if youre using chatgpt like google youre using...  \n",
       "\n",
       "[166461 rows x 3 columns]"
      ]
     },
     "execution_count": 9,
     "metadata": {},
     "output_type": "execute_result"
    }
   ],
   "source": [
    "df[\"stripped_tweets\"] = df[\"tweets\"].apply(strip_text)\n",
    "df"
   ]
  },
  {
   "cell_type": "code",
   "execution_count": 10,
   "id": "13660193",
   "metadata": {},
   "outputs": [],
   "source": [
    "tokenizer = TreebankWordTokenizer()\n",
    "\n",
    "\n",
    "def normalize_text(text: str) -> str:\n",
    "    words = tokenizer.tokenize(text)\n",
    "    cleaned = [\n",
    "        lemmatizer.lemmatize(w)\n",
    "        for w in words\n",
    "        if w.lower() not in stop_words and w not in string.punctuation\n",
    "    ]\n",
    "    return \" \".join(cleaned)"
   ]
  },
  {
   "cell_type": "code",
   "execution_count": 11,
   "id": "fb205167",
   "metadata": {},
   "outputs": [
    {
     "data": {
      "application/vnd.microsoft.datawrangler.viewer.v0+json": {
       "columns": [
        {
         "name": "index",
         "rawType": "int64",
         "type": "integer"
        },
        {
         "name": "tweets",
         "rawType": "object",
         "type": "string"
        },
        {
         "name": "labels",
         "rawType": "int64",
         "type": "integer"
        },
        {
         "name": "stripped_tweets",
         "rawType": "object",
         "type": "string"
        },
        {
         "name": "normalized_tweets",
         "rawType": "object",
         "type": "string"
        }
       ],
       "conversionMethod": "pd.DataFrame",
       "ref": "7e234a86-2fee-4f38-b9c4-b580da3632f2",
       "rows": [
        [
         "0",
         "I think I'll always remember the mix of awe &amp; excitement &amp; terror I felt when I first tried ChatGPT. I always thought computers would be able to do this someday but to actually experience it first hand is something else",
         "1",
         "i think ill always remember the mix of awe amp excitement amp terror i felt when i first tried chatgpt i always thought computers would be able to do this someday but to actually experience it first hand is something else",
         "think ill always remember mix awe amp excitement amp terror felt first tried chatgpt always thought computer would able someday actually experience first hand something else"
        ],
        [
         "1",
         "I too realized this the moment I used ChatGPT. The way we see the future is shifting faster, we are getting more and more comfortable… But should we? https://t.co/NbNK03fxsl",
         "1",
         "i too realized this the moment i used chatgpt the way we see the future is shifting faster we are getting more and more comfortable but should we",
         "realized moment used chatgpt way see future shifting faster getting comfortable"
        ],
        [
         "2",
         "ChatGPT is mind-blowing.\\nRunning out of ideas for your #powerplatform blog for example? Just ask it and get some inspiration! https://t.co/TTvNPgdFTp",
         "2",
         "chatgpt is mindblowing running out of ideas for your blog for example just ask it and get some inspiration",
         "chatgpt mindblowing running idea blog example ask get inspiration"
        ],
        [
         "3",
         "For those saying ChatGPT will replace GOOG / StackOverFlow / etc. https://t.co/gStsU7OgM1",
         "0",
         "for those saying chatgpt will replace goog stackoverflow etc",
         "saying chatgpt replace goog stackoverflow etc"
        ],
        [
         "4",
         "Free speech is a fundamental right, but it is not absolute. There are restrictions on free speech, such as when it incites violence or hate speech. The limits of free speech vary depending on context. Use free speech responsibly and consider the potential consequences. #ChatGPT",
         "2",
         "free speech is a fundamental right but it is not absolute there are restrictions on free speech such as when it incites violence or hate speech the limits of free speech vary depending on context use free speech responsibly and consider the potential consequences",
         "free speech fundamental right absolute restriction free speech incites violence hate speech limit free speech vary depending context use free speech responsibly consider potential consequence"
        ],
        [
         "5",
         "Everyone share with me the cool things ChatGPT has done for you so far. I'M OBSESSED.",
         "1",
         "everyone share with me the cool things chatgpt has done for you so far im obsessed",
         "everyone share cool thing chatgpt done far im obsessed"
        ],
        [
         "6",
         "RT @simon@fedi.simonwillison.net\\nAlso fun: I asked ChatGPT to come up with more ideas for ways to trick it:\\nhttps://t.co/DpMrEaSIIR https://t.co/GF7PYfht8O",
         "1",
         "rt simonwillisonnet also fun i asked chatgpt to come up with more ideas for ways to trick it",
         "rt simonwillisonnet also fun asked chatgpt come idea way trick"
        ],
        [
         "7",
         "Playing with this quote around with ChatGPT https://t.co/IZ4LLOOLL6 https://t.co/0dmtyCwUdG",
         "1",
         "playing with this quote around with chatgpt",
         "playing quote around chatgpt"
        ],
        [
         "8",
         "#MidJourney #OpenAi #GPT #StableDiffusion2 #DallE #ChatGPT\\njoin: https://t.co/rlyimpQw40\\n\\n#imagine '' https://t.co/Pli09MXIxp",
         "0",
         "join",
         "join"
        ],
        [
         "9",
         "Why the heck #ChatGPT can't find the first non repeated character in Hello string? But able to provide complex solutions.\\n\\n@OpenAI @sama @ChatGPTGoneWild https://t.co/oEfjbOxeDK",
         "1",
         "why the heck cant find the first non repeated character in hello string but able to provide complex solutions",
         "heck cant find first non repeated character hello string able provide complex solution"
        ],
        [
         "10",
         "US Top News | Sat | 31 Dec | 20:26 | UTC | Student caught using creepy AI bot ChatGPT to cheat and is publicly shamed by teacher https://t.co/m6XS1ReoMt",
         "0",
         "us top news sat 31 dec 2026 utc student caught using creepy ai bot chatgpt to cheat and is publicly shamed by teacher",
         "u top news sat 31 dec 2026 utc student caught using creepy ai bot chatgpt cheat publicly shamed teacher"
        ],
        [
         "11",
         "Is OpenAI’s #ChatGPT Chatbot a Google Search Killer?\\nhttps://t.co/v7ZbdUK81o\\n$GOOGL $GOOG #investing #stockmarket #stocks",
         "0",
         "is openais chatbot a google search killer googl goog",
         "openais chatbot google search killer googl goog"
        ],
        [
         "12",
         "I just used #ChatGPT for the first time and wow #mindblown https://t.co/ubQZRjksN6",
         "2",
         "i just used for the first time and wow",
         "used first time wow"
        ],
        [
         "13",
         "Want: #ChatGPT trained on my company. Knows all docs, data, customer interviews, codebase etc.. An omniscient business assistant.",
         "1",
         "want trained on my company knows all docs data customer interviews codebase etc an omniscient business assistant",
         "want trained company know doc data customer interview codebase etc omniscient business assistant"
        ],
        [
         "14",
         "I asked ChatGPT if Jennifer Rubin was a conservative. Apparently, AI can figure out what the WaPo and other MSM cannot. cc: @RuthlessPodcast https://t.co/8yUxdBtNY1",
         "0",
         "i asked chatgpt if jennifer rubin was a conservative apparently ai can figure out what the wapo and other msm cannot cc",
         "asked chatgpt jennifer rubin conservative apparently ai figure wapo msm cc"
        ],
        [
         "15",
         "Game Changer! Create smart contracts within seconds with ChatGPT. Going to be up all night with this! Check out the thread! https://t.co/u9MEgJVBiY",
         "2",
         "game changer create smart contracts within seconds with chatgpt going to be up all night with this check out the thread",
         "game changer create smart contract within second chatgpt going night check thread"
        ],
        [
         "16",
         "If you do not know: the BEST application of ChatGPT so far is to ask it to write a song or a poem for your significant other. 😉",
         "2",
         "if you do not know the best application of chatgpt so far is to ask it to write a song or a poem for your significant other",
         "know best application chatgpt far ask write song poem significant"
        ],
        [
         "17",
         "Yaz! chatGPT can't replace @Google right now\\n\\nWhy? Try \"Hospital near me.\"\\n\\n#ChatGPT #OpenAI #AI",
         "0",
         "yaz chatgpt cant replace right now why try hospital near me",
         "yaz chatgpt cant replace right try hospital near"
        ],
        [
         "18",
         "After seeing the capability of ChatGPT I believe we are in for another flip phone to iPhone moment in history. \\n\\nArtificial Intelligence will revolutionize the workplace.",
         "1",
         "after seeing the capability of chatgpt i believe we are in for another flip phone to iphone moment in history artificial intelligence will revolutionize the workplace",
         "seeing capability chatgpt believe another flip phone iphone moment history artificial intelligence revolutionize workplace"
        ],
        [
         "19",
         "I asked #ChatGPT to write a love letter.\\n\\n#AI https://t.co/Qk5TYL6usG",
         "2",
         "i asked to write a love letter",
         "asked write love letter"
        ],
        [
         "20",
         "One advantage that traditional search still holds vs, says chatGPT, is provenance.",
         "1",
         "one advantage that traditional search still holds vs says chatgpt is provenance",
         "one advantage traditional search still hold v say chatgpt provenance"
        ],
        [
         "21",
         "I've increased my work efficiency by at least 10% by using chatGPT for email subject lines",
         "2",
         "ive increased my work efficiency by at least 10 by using chatgpt for email subject lines",
         "ive increased work efficiency least 10 using chatgpt email subject line"
        ],
        [
         "22",
         "Serena McDonnell talked about how #ChatGPT can be used to enhance the functionality of her side project #foodshake that converts any recipe into its plant-based equivalent \\n\\nwatch the full episode in the comments https://t.co/3OCNaYti2q",
         "0",
         "serena mcdonnell talked about how can be used to enhance the functionality of her side project that converts any recipe into its plantbased equivalent watch the full episode in the comments",
         "serena mcdonnell talked used enhance functionality side project convert recipe plantbased equivalent watch full episode comment"
        ],
        [
         "23",
         "#ChatGPT proves one thing: suits are getting replaced and some shorts",
         "0",
         "proves one thing suits are getting replaced and some shorts",
         "prof one thing suit getting replaced short"
        ],
        [
         "24",
         "Dear diary, today I wanted to open the calendar, typed C in the browser url, and the first suggestion was no longer CALENDAR but CHATGPT. https://t.co/QurjxQYziW",
         "1",
         "dear diary today i wanted to open the calendar typed c in the browser url and the first suggestion was no longer calendar but chatgpt",
         "dear diary today wanted open calendar typed c browser url first suggestion longer calendar chatgpt"
        ],
        [
         "25",
         "#chatGPT did blow CT away, so do the first, amazing AI data products (around ai improved avatars, e.g.) on top of #stablediffusion, and you guys have no idea how much Ocean was built for exactly that moment. And waiting for it.",
         "2",
         "did blow ct away so do the first amazing ai data products around ai improved avatars eg on top of and you guys have no idea how much ocean was built for exactly that moment and waiting for it",
         "blow ct away first amazing ai data product around ai improved avatar eg top guy idea much ocean built exactly moment waiting"
        ],
        [
         "26",
         "never worry about writing song lyrics ever again #ChatGPT https://t.co/2DPeWb2Msg",
         "0",
         "never worry about writing song lyrics ever again",
         "never worry writing song lyric ever"
        ],
        [
         "27",
         "They don't want you to know!\\n#ChatGPT https://t.co/3S8zfGRcc8",
         "1",
         "they dont want you to know",
         "dont want know"
        ],
        [
         "28",
         "chatGPT-3 has growth hackers pegged. https://t.co/gGnAV7DXPo",
         "1",
         "chatgpt3 has growth hackers pegged",
         "chatgpt3 growth hacker pegged"
        ],
        [
         "29",
         "RT Top story: ChatGPT: What Is It &amp; How Can You Use It? https://t.co/gM100iMoul, see more https://t.co/iF0Tzfl9VO",
         "1",
         "rt top story chatgpt what is it amp how can you use it see more",
         "rt top story chatgpt amp use see"
        ],
        [
         "30",
         "Strange things are apparently happening, courtesy of ChatGPT. https://t.co/0JIi9XEnY5",
         "1",
         "strange things are apparently happening courtesy of chatgpt",
         "strange thing apparently happening courtesy chatgpt"
        ],
        [
         "31",
         "I’m going to @themarcba’s live about chatGPT. \\n\\nThis is a real outstanding app but it’s also scary.\\n\\nLet’s learn more about it.\\n\\nhttps://t.co/Cy1ekwp2EU",
         "1",
         "im going to s live about chatgpt this is a real outstanding app but its also scary lets learn more about it",
         "im going live chatgpt real outstanding app also scary let learn"
        ],
        [
         "32",
         "#ChatGPT has gone insane. x https://t.co/VfwB19toBy",
         "0",
         "has gone insane x",
         "gone insane x"
        ],
        [
         "33",
         "ChatGPT, the AI program captivating Silicon Valley with its sophisticated prose, had its origins three years ago when research lab OpenAI moved away from its nonprofit roots https://t.co/b3qziqro74",
         "2",
         "chatgpt the ai program captivating silicon valley with its sophisticated prose had its origins three years ago when research lab openai moved away from its nonprofit roots",
         "chatgpt ai program captivating silicon valley sophisticated prose origin three year ago research lab openai moved away nonprofit root"
        ],
        [
         "34",
         "Can’t think of anything more disruptive in the past decade or so. How will teachers evaluate assignments in one year from now? #ChatGPT https://t.co/Cd47tIiRvB",
         "1",
         "cant think of anything more disruptive in the past decade or so how will teachers evaluate assignments in one year from now",
         "cant think anything disruptive past decade teacher evaluate assignment one year"
        ],
        [
         "35",
         "According to OpenAI's CEO Sam Altman, it would be a mistake to rely on the company's viral chatbot ChatGPT for anything important at this time.\\n\\n#ChatGPT #OpenAI #ArtificialIntelligence #AI https://t.co/pXH5fd4Kf1",
         "0",
         "according to openais ceo sam altman it would be a mistake to rely on the companys viral chatbot chatgpt for anything important at this time",
         "according openais ceo sam altman would mistake rely company viral chatbot chatgpt anything important time"
        ],
        [
         "36",
         "30/10/2022, the Ai ChatGPT was publicly launched. Was that Judgment day and are we presently in the matrix...",
         "1",
         "30102022 the ai chatgpt was publicly launched was that judgment day and are we presently in the matrix",
         "30102022 ai chatgpt publicly launched judgment day presently matrix"
        ],
        [
         "37",
         "yet another instance where @eddyionescu impresses me with his transit tech work. super excited how tools like #ChatGPT can facilitate/expedite current transit design/planning processes https://t.co/JvmNrn8JU7",
         "2",
         "yet another instance where impresses me with his transit tech work super excited how tools like can facilitateexpedite current transit designplanning processes",
         "yet another instance impress transit tech work super excited tool like facilitateexpedite current transit designplanning process"
        ],
        [
         "38",
         "Why Everyone's Obsessed With ChatGPT, a Mind-Blowing AI Chatbot.\\nhttps://t.co/Z3XF74Z5aP",
         "0",
         "why everyones obsessed with chatgpt a mindblowing ai chatbot",
         "everyones obsessed chatgpt mindblowing ai chatbot"
        ],
        [
         "39",
         "Rise of the bots: 'Scary' AI ChatGPT could eliminate Google within 2 years https://t.co/4InBe4DchA via @nypost Someone please make it stop. #eviltech",
         "0",
         "rise of the bots scary ai chatgpt could eliminate google within 2 years via someone please make it stop",
         "rise bot scary ai chatgpt could eliminate google within 2 year via someone please make stop"
        ],
        [
         "40",
         "OpenAI's question-answering bot, ChatGPT, isn't smart enough for the team at Stack Overflow, who today announced a temporary ban on answers generated by the AI bot because of how frequently it's wrong.  Stack Overflow said it was withholding a permanent... https://t.co/9VE54krBzk",
         "0",
         "openais questionanswering bot chatgpt isnt smart enough for the team at stack overflow who today announced a temporary ban on answers generated by the ai bot because of how frequently its wrong stack overflow said it was withholding a permanent",
         "openais questionanswering bot chatgpt isnt smart enough team stack overflow today announced temporary ban answer generated ai bot frequently wrong stack overflow said withholding permanent"
        ],
        [
         "41",
         "A lot of people building on #chatgpt , coming up with hackathon projects in 48 hours etc.\\n\\nI somehow find this approach towards building products not so sustainable in the long run. Good for college kids, but companies should take some time to build, test, deploy &amp; commercialise.",
         "1",
         "a lot of people building on coming up with hackathon projects in 48 hours etc i somehow find this approach towards building products not so sustainable in the long run good for college kids but companies should take some time to build test deploy amp commercialise",
         "lot people building coming hackathon project 48 hour etc somehow find approach towards building product sustainable long run good college kid company take time build test deploy amp commercialise"
        ],
        [
         "42",
         "#chatGPT For knowledge/keyboard workers , we have 5 to 10 years max before we either find a way to make stay valuable in a POST-GPT world or accumulate as much money as possible before we are replaced &amp; no UBI is in place. The list of past job next to lamplighters will explode",
         "1",
         "for knowledgekeyboard workers we have 5 to 10 years max before we either find a way to make stay valuable in a postgpt world or accumulate as much money as possible before we are replaced amp no ubi is in place the list of past job next to lamplighters will explode",
         "knowledgekeyboard worker 5 10 year max either find way make stay valuable postgpt world accumulate much money possible replaced amp ubi place list past job next lamplighter explode"
        ],
        [
         "43",
         "If you're the type of person who likes to get technology to do things it was absolutely not designed for (putting full games in shaders, synthesizing music in an snes) chatGPT is incredibly fun to play with. Im trying to make it play snake, and seeing what makes it tick is wild",
         "2",
         "if youre the type of person who likes to get technology to do things it was absolutely not designed for putting full games in shaders synthesizing music in an snes chatgpt is incredibly fun to play with im trying to make it play snake and seeing what makes it tick is wild",
         "youre type person like get technology thing absolutely designed putting full game shaders synthesizing music snes chatgpt incredibly fun play im trying make play snake seeing make tick wild"
        ],
        [
         "44",
         "#ChatGPT lives up to the hype. Can’t throw cold water on this. The impact of generative AI on culture will be massive.\\n\\nHundreds of thousands of creators are embarking on an epic journey right now.\\n\\n#ai #creator #culture #marketing",
         "0",
         "lives up to the hype cant throw cold water on this the impact of generative ai on culture will be massive hundreds of thousands of creators are embarking on an epic journey right now",
         "life hype cant throw cold water impact generative ai culture massive hundred thousand creator embarking epic journey right"
        ],
        [
         "45",
         "Can tools like #chatgpt improve warehousing solutions? #ai Will change this by far.",
         "2",
         "can tools like improve warehousing solutions will change this by far",
         "tool like improve warehousing solution change far"
        ],
        [
         "46",
         "I understand tech has flaws but it’s also amazing. The last few days I’ve seen awesome outputs from ChatGPT (&amp; in addition to awesome, its potential business value is notable).  I get accuracy concerns but have no idea what’s meant by “coercion, threats,” can someone give an Ex? https://t.co/m8MbNm8Lak",
         "2",
         "i understand tech has flaws but its also amazing the last few days ive seen awesome outputs from chatgpt amp in addition to awesome its potential business value is notable i get accuracy concerns but have no idea whats meant by coercion threats can someone give an ex",
         "understand tech flaw also amazing last day ive seen awesome output chatgpt amp addition awesome potential business value notable get accuracy concern idea whats meant coercion threat someone give ex"
        ],
        [
         "47",
         "Are you ready to share your creativity, personality, and passion with the world? Here are 5 tips per #ChatGPT a 🧵",
         "2",
         "are you ready to share your creativity personality and passion with the world here are 5 tips per a",
         "ready share creativity personality passion world 5 tip per"
        ],
        [
         "48",
         "This is just becoming hilarious.. Stack Overflow under threat from ChatGPT answers, this weekend has been amazing for tech 🤣🤣🤣https://t.co/vGqf6PIxE3",
         "1",
         "this is just becoming hilarious stack overflow under threat from chatgpt answers this weekend has been amazing for tech",
         "becoming hilarious stack overflow threat chatgpt answer weekend amazing tech"
        ],
        [
         "49",
         "-@EYE__AI is a free telegram bot that provides its users access to ChatGPT and DALL-E via Chat Commands 🔌 AI and metaverse integration, facilitating translations 🔈 Creation of own avatars 🤓 trend tracking, via bot telegram💲 Data analytics robots for investments 📊.@krypt_kwin",
         "2",
         "is a free telegram bot that provides its users access to chatgpt and dalle via chat commands ai and metaverse integration facilitating translations creation of own avatars trend tracking via bot telegram data analytics robots for investments",
         "free telegram bot provides user access chatgpt dalle via chat command ai metaverse integration facilitating translation creation avatar trend tracking via bot telegram data analytics robot investment"
        ]
       ],
       "shape": {
        "columns": 4,
        "rows": 166461
       }
      },
      "text/html": [
       "<div>\n",
       "<style scoped>\n",
       "    .dataframe tbody tr th:only-of-type {\n",
       "        vertical-align: middle;\n",
       "    }\n",
       "\n",
       "    .dataframe tbody tr th {\n",
       "        vertical-align: top;\n",
       "    }\n",
       "\n",
       "    .dataframe thead th {\n",
       "        text-align: right;\n",
       "    }\n",
       "</style>\n",
       "<table border=\"1\" class=\"dataframe\">\n",
       "  <thead>\n",
       "    <tr style=\"text-align: right;\">\n",
       "      <th></th>\n",
       "      <th>tweets</th>\n",
       "      <th>labels</th>\n",
       "      <th>stripped_tweets</th>\n",
       "      <th>normalized_tweets</th>\n",
       "    </tr>\n",
       "  </thead>\n",
       "  <tbody>\n",
       "    <tr>\n",
       "      <th>0</th>\n",
       "      <td>I think I'll always remember the mix of awe &amp;a...</td>\n",
       "      <td>1</td>\n",
       "      <td>i think ill always remember the mix of awe amp...</td>\n",
       "      <td>think ill always remember mix awe amp exciteme...</td>\n",
       "    </tr>\n",
       "    <tr>\n",
       "      <th>1</th>\n",
       "      <td>I too realized this the moment I used ChatGPT....</td>\n",
       "      <td>1</td>\n",
       "      <td>i too realized this the moment i used chatgpt ...</td>\n",
       "      <td>realized moment used chatgpt way see future sh...</td>\n",
       "    </tr>\n",
       "    <tr>\n",
       "      <th>2</th>\n",
       "      <td>ChatGPT is mind-blowing.\\nRunning out of ideas...</td>\n",
       "      <td>2</td>\n",
       "      <td>chatgpt is mindblowing running out of ideas fo...</td>\n",
       "      <td>chatgpt mindblowing running idea blog example ...</td>\n",
       "    </tr>\n",
       "    <tr>\n",
       "      <th>3</th>\n",
       "      <td>For those saying ChatGPT will replace GOOG / S...</td>\n",
       "      <td>0</td>\n",
       "      <td>for those saying chatgpt will replace goog sta...</td>\n",
       "      <td>saying chatgpt replace goog stackoverflow etc</td>\n",
       "    </tr>\n",
       "    <tr>\n",
       "      <th>4</th>\n",
       "      <td>Free speech is a fundamental right, but it is ...</td>\n",
       "      <td>2</td>\n",
       "      <td>free speech is a fundamental right but it is n...</td>\n",
       "      <td>free speech fundamental right absolute restric...</td>\n",
       "    </tr>\n",
       "    <tr>\n",
       "      <th>...</th>\n",
       "      <td>...</td>\n",
       "      <td>...</td>\n",
       "      <td>...</td>\n",
       "      <td>...</td>\n",
       "    </tr>\n",
       "    <tr>\n",
       "      <th>166456</th>\n",
       "      <td>This ChatGPT is weird, still sounds like a cus...</td>\n",
       "      <td>2</td>\n",
       "      <td>this chatgpt is weird still sounds like a cust...</td>\n",
       "      <td>chatgpt weird still sound like customer suppor...</td>\n",
       "    </tr>\n",
       "    <tr>\n",
       "      <th>166457</th>\n",
       "      <td>Can’t wait to see ChatGPT but with pronunciati...</td>\n",
       "      <td>2</td>\n",
       "      <td>cant wait to see chatgpt but with pronunciatio...</td>\n",
       "      <td>cant wait see chatgpt pronunciation recognitio...</td>\n",
       "    </tr>\n",
       "    <tr>\n",
       "      <th>166458</th>\n",
       "      <td>ChatGPT is 🔥 https://t.co/xuMdkySoFM</td>\n",
       "      <td>0</td>\n",
       "      <td>chatgpt is</td>\n",
       "      <td>chatgpt</td>\n",
       "    </tr>\n",
       "    <tr>\n",
       "      <th>166459</th>\n",
       "      <td>ChatGPT is going to completely wreck content m...</td>\n",
       "      <td>0</td>\n",
       "      <td>chatgpt is going to completely wreck content m...</td>\n",
       "      <td>chatgpt going completely wreck content marketi...</td>\n",
       "    </tr>\n",
       "    <tr>\n",
       "      <th>166460</th>\n",
       "      <td>If you're using ChatGPT like Google, you're us...</td>\n",
       "      <td>0</td>\n",
       "      <td>if youre using chatgpt like google youre using...</td>\n",
       "      <td>youre using chatgpt like google youre using wrong</td>\n",
       "    </tr>\n",
       "  </tbody>\n",
       "</table>\n",
       "<p>166461 rows × 4 columns</p>\n",
       "</div>"
      ],
      "text/plain": [
       "                                                   tweets  labels  \\\n",
       "0       I think I'll always remember the mix of awe &a...       1   \n",
       "1       I too realized this the moment I used ChatGPT....       1   \n",
       "2       ChatGPT is mind-blowing.\\nRunning out of ideas...       2   \n",
       "3       For those saying ChatGPT will replace GOOG / S...       0   \n",
       "4       Free speech is a fundamental right, but it is ...       2   \n",
       "...                                                   ...     ...   \n",
       "166456  This ChatGPT is weird, still sounds like a cus...       2   \n",
       "166457  Can’t wait to see ChatGPT but with pronunciati...       2   \n",
       "166458               ChatGPT is 🔥 https://t.co/xuMdkySoFM       0   \n",
       "166459  ChatGPT is going to completely wreck content m...       0   \n",
       "166460  If you're using ChatGPT like Google, you're us...       0   \n",
       "\n",
       "                                          stripped_tweets  \\\n",
       "0       i think ill always remember the mix of awe amp...   \n",
       "1       i too realized this the moment i used chatgpt ...   \n",
       "2       chatgpt is mindblowing running out of ideas fo...   \n",
       "3       for those saying chatgpt will replace goog sta...   \n",
       "4       free speech is a fundamental right but it is n...   \n",
       "...                                                   ...   \n",
       "166456  this chatgpt is weird still sounds like a cust...   \n",
       "166457  cant wait to see chatgpt but with pronunciatio...   \n",
       "166458                                         chatgpt is   \n",
       "166459  chatgpt is going to completely wreck content m...   \n",
       "166460  if youre using chatgpt like google youre using...   \n",
       "\n",
       "                                        normalized_tweets  \n",
       "0       think ill always remember mix awe amp exciteme...  \n",
       "1       realized moment used chatgpt way see future sh...  \n",
       "2       chatgpt mindblowing running idea blog example ...  \n",
       "3           saying chatgpt replace goog stackoverflow etc  \n",
       "4       free speech fundamental right absolute restric...  \n",
       "...                                                   ...  \n",
       "166456  chatgpt weird still sound like customer suppor...  \n",
       "166457  cant wait see chatgpt pronunciation recognitio...  \n",
       "166458                                            chatgpt  \n",
       "166459  chatgpt going completely wreck content marketi...  \n",
       "166460  youre using chatgpt like google youre using wrong  \n",
       "\n",
       "[166461 rows x 4 columns]"
      ]
     },
     "execution_count": 11,
     "metadata": {},
     "output_type": "execute_result"
    }
   ],
   "source": [
    "df[\"normalized_tweets\"] = df[\"stripped_tweets\"].apply(normalize_text)\n",
    "df"
   ]
  },
  {
   "cell_type": "markdown",
   "id": "8fafaeec",
   "metadata": {},
   "source": [
    "Construindo vocabulário"
   ]
  },
  {
   "cell_type": "code",
   "execution_count": 12,
   "id": "0af59ec6",
   "metadata": {},
   "outputs": [],
   "source": [
    "from collections import Counter\n",
    "\n",
    "\n",
    "def build_vocab(texts, min_freq=2):\n",
    "    counter = Counter()\n",
    "    for tweet in texts:\n",
    "        counter.update(tweet.split())\n",
    "    vocab = {\"<pad>\": 0, \"<unk>\": 1}\n",
    "    for word, freq in counter.items():\n",
    "        if freq >= min_freq:\n",
    "            vocab[word] = len(vocab)\n",
    "    return vocab\n",
    "\n",
    "\n",
    "vocab = build_vocab(df[\"normalized_tweets\"])\n",
    "vocab_size = len(vocab)"
   ]
  },
  {
   "cell_type": "code",
   "execution_count": 13,
   "id": "e030f0f2",
   "metadata": {},
   "outputs": [],
   "source": [
    "def tweet_to_indices(tweet, vocab):\n",
    "    return [vocab.get(word, vocab[\"<unk>\"]) for word in tweet.split()]\n",
    "\n",
    "\n",
    "df[\"indexed_tweets\"] = df[\"normalized_tweets\"].apply(\n",
    "    lambda x: tweet_to_indices(x, vocab)\n",
    ")"
   ]
  },
  {
   "cell_type": "code",
   "execution_count": 14,
   "id": "515da109",
   "metadata": {},
   "outputs": [],
   "source": [
    "class TweetDataset(Dataset):\n",
    "    def __init__(self, texts, labels):\n",
    "        self.sequences = [torch.tensor(seq, dtype=torch.long) for seq in texts]\n",
    "        self.labels = torch.tensor(labels.values, dtype=torch.float32)\n",
    "\n",
    "    def __len__(self):\n",
    "        return len(self.labels)\n",
    "\n",
    "    def __getitem__(self, idx):\n",
    "        return self.sequences[idx], self.labels[idx]\n",
    "\n",
    "\n",
    "def collate_fn(batch):\n",
    "    sequences, labels = zip(*batch)\n",
    "    padded = pad_sequence(sequences, batch_first=True, padding_value=vocab[\"<pad>\"])\n",
    "    return padded, torch.tensor(labels)"
   ]
  },
  {
   "cell_type": "code",
   "execution_count": 15,
   "id": "a449d600",
   "metadata": {},
   "outputs": [
    {
     "name": "stdout",
     "output_type": "stream",
     "text": [
      "Train size: 104869\n",
      "Test size: 49939\n",
      "Holdout size: 11653\n",
      "\n",
      "Train distribution:\n",
      " labels\n",
      "1    34957\n",
      "0    34956\n",
      "2    34956\n",
      "Name: count, dtype: int64\n",
      "\n",
      "Test distribution:\n",
      " labels\n",
      "2    16647\n",
      "1    16646\n",
      "0    16646\n",
      "Name: count, dtype: int64\n",
      "\n",
      "Holdout distribution:\n",
      " labels\n",
      "0    3885\n",
      "1    3884\n",
      "2    3884\n",
      "Name: count, dtype: int64\n"
     ]
    }
   ],
   "source": [
    "train_df, test_df = train_test_split(\n",
    "    df,\n",
    "    test_size=0.3,\n",
    "    stratify=df_balanced[\"labels\"],\n",
    "    random_state=SEED,\n",
    ")\n",
    "\n",
    "train_df, holdout_df = train_test_split(\n",
    "    train_df,\n",
    "    test_size=0.1,\n",
    "    stratify=train_df[\"labels\"],\n",
    "    random_state=SEED,\n",
    ")\n",
    "\n",
    "print(f\"Train size: {len(train_df)}\")\n",
    "print(f\"Test size: {len(test_df)}\")\n",
    "print(f\"Holdout size: {len(holdout_df)}\")\n",
    "\n",
    "print(\"\\nTrain distribution:\\n\", train_df[\"labels\"].value_counts())\n",
    "print(\"\\nTest distribution:\\n\", test_df[\"labels\"].value_counts())\n",
    "print(\"\\nHoldout distribution:\\n\", holdout_df[\"labels\"].value_counts())"
   ]
  },
  {
   "cell_type": "code",
   "execution_count": 16,
   "id": "e59d6e6d",
   "metadata": {},
   "outputs": [
    {
     "data": {
      "application/vnd.microsoft.datawrangler.viewer.v0+json": {
       "columns": [
        {
         "name": "index",
         "rawType": "int64",
         "type": "integer"
        },
        {
         "name": "tweets",
         "rawType": "object",
         "type": "string"
        },
        {
         "name": "labels",
         "rawType": "int64",
         "type": "integer"
        },
        {
         "name": "stripped_tweets",
         "rawType": "object",
         "type": "string"
        },
        {
         "name": "normalized_tweets",
         "rawType": "object",
         "type": "string"
        },
        {
         "name": "indexed_tweets",
         "rawType": "object",
         "type": "unknown"
        }
       ],
       "conversionMethod": "pd.DataFrame",
       "ref": "883bb25b-acbe-4e8c-a38e-7e3c68691861",
       "rows": [
        [
         "140878",
         "ChatGPT be glowin' pretty hard https://t.co/lAv9zaY5Lq",
         "1",
         "chatgpt be glowin pretty hard",
         "chatgpt glowin pretty hard",
         "[14, 1, 808, 1996]"
        ],
        [
         "135789",
         "https://t.co/SqfL0G7rJL Develops AI Content Detection for GPT-3 and ChatGPT – Interview with Founder Jon Gillham. @OriginalityAI https://t.co/Dk0LLcLYDf #AI #contentwriter  #plagiarism  @TechBullion",
         "0",
         "develops ai content detection for gpt3 and chatgpt interview with founder jon gillham",
         "develops ai content detection gpt3 chatgpt interview founder jon gillham",
         "[6252, 108, 732, 4449, 564, 14, 129, 3906, 6253, 6254]"
        ],
        [
         "146536",
         "Argentina has not won #FIFAWorldCupFinal once in 1987???😲\\nJust look at #ChatGPT response.\\n#Argentina\\n#WorldCupFinal  #FIFAWorldCup https://t.co/p1xaCHYFsu",
         "2",
         "argentina has not won once in 1987 just look at response",
         "argentina 1987 look response",
         "[7824, 1, 1224, 777]"
        ],
        [
         "20900",
         "“Using ChatGPT CODEX(!) To Build Web3 Scam Search App In 2 Minutes” by Josh Olin\\nhttps://t.co/dZn1OvO93Q https://t.co/VgEkqfqB0Z",
         "0",
         "using chatgpt codex to build web3 scam search app in 2 minutes by josh olin",
         "using chatgpt codex build web3 scam search app 2 minute josh olin",
         "[106, 14, 1200, 352, 4090, 3581, 117, 255, 313, 628, 4983, 18217]"
        ],
        [
         "47142",
         "Wow  😲😍 @OpenAI's ChatGPT is most amazing person I meet in my entire life @elonmusk .",
         "2",
         "wow s chatgpt is most amazing person i meet in my entire life",
         "wow chatgpt amazing person meet entire life",
         "[121, 14, 228, 375, 2936, 649, 390]"
        ],
        [
         "129995",
         "Don't tell the teachers about Chat GPT 🤫 Let them grade papers while we work towards a brighter future 🌅 Together, we can create a world where technology and humanity coexist 🤝 #ChatGPT #AI #technology #humanity",
         "2",
         "dont tell the teachers about chat gpt let them grade papers while we work towards a brighter future together we can create a world where technology and humanity coexist",
         "dont tell teacher chat gpt let grade paper work towards brighter future together create world technology humanity coexist",
         "[244, 1218, 113, 439, 1335, 257, 508, 3230, 187, 344, 3872, 30, 2405, 144, 363, 376, 1490, 3873]"
        ],
        [
         "115401",
         "I think most people talking about ChatGPT are either 1) excited bc that are lazy and don’t want to work. Or 2) mad because they aren’t smart enough to figure out how to make it work for them.",
         "0",
         "i think most people talking about chatgpt are either 1 excited bc that are lazy and dont want to work or 2 mad because they arent smart enough to figure out how to make it work for them",
         "think people talking chatgpt either 1 excited bc lazy dont want work 2 mad arent smart enough figure make work",
         "[2, 336, 1278, 14, 359, 462, 304, 7424, 5823, 244, 122, 187, 313, 1740, 1999, 145, 321, 138, 317, 187]"
        ],
        [
         "89952",
         "My son is using chatGPT to 'write' his bar mitzvah speech. How times have changed.",
         "0",
         "my son is using chatgpt to write his bar mitzvah speech how times have changed",
         "son using chatgpt write bar mitzvah speech time changed",
         "[5426, 106, 14, 155, 1262, 31370, 49, 120, 1194]"
        ],
        [
         "31705",
         "Have had a go myself and ChatGPT also knows how to write code to work with netCDF files. Very exciting https://t.co/CTJxPJmfpm",
         "2",
         "have had a go myself and chatgpt also knows how to write code to work with netcdf files very exciting",
         "go chatgpt also know write code work netcdf file exciting",
         "[851, 14, 76, 125, 155, 817, 187, 21765, 2620, 968]"
        ],
        [
         "89518",
         "me: How can we improve cefi?\\n\\nchatgpt: use defi https://t.co/6gbIbJx8Ct",
         "1",
         "me how can we improve cefi chatgpt use defi",
         "improve cefi chatgpt use defi",
         "[405, 1, 14, 61, 4975]"
        ],
        [
         "6381",
         "ChatGPT, a language processing AI with 175 billion parameters! it can do everything from translation and summarisation to generating original content and completing code; \\n\\nits ability to generate coherent and diverse responses are sinisterly proficient . . \\n\\n#OpenAI #ChatGPT",
         "2",
         "chatgpt a language processing ai with 175 billion parameters it can do everything from translation and summarisation to generating original content and completing code its ability to generate coherent and diverse responses are sinisterly proficient",
         "chatgpt language processing ai 175 billion parameter everything translation summarisation generating original content completing code ability generate coherent diverse response sinisterly proficient",
         "[14, 567, 826, 108, 10226, 1765, 1778, 1986, 444, 10227, 1906, 1117, 732, 10228, 817, 1668, 574, 3267, 4630, 777, 10229, 2351]"
        ],
        [
         "29648",
         "Such a good episode about ChatGPT and other generative AI  https://t.co/LGjBmwrtmk",
         "1",
         "such a good episode about chatgpt and other generative ai",
         "good episode chatgpt generative ai",
         "[348, 207, 14, 396, 108]"
        ],
        [
         "132749",
         "ICYMI: Has artificial intelligence become a legitimate concern for plagiarism? James Bagshaw investigates the discussion around the use of the AI chat tool, ChatGPT https://t.co/XU7sZWUYM8 https://t.co/2VNIXK3swg",
         "1",
         "icymi has artificial intelligence become a legitimate concern for plagiarism james bagshaw investigates the discussion around the use of the ai chat tool chatgpt",
         "icymi artificial intelligence become legitimate concern plagiarism james bagshaw investigates discussion around use ai chat tool chatgpt",
         "[7089, 171, 172, 858, 8081, 418, 2010, 1886, 9862, 9863, 3943, 83, 61, 108, 439, 305, 14]"
        ],
        [
         "91448",
         "How do you know it's generated vs. (almost)found in the dataset, which might not be indexed by search engines? #ChatGPT",
         "0",
         "how do you know its generated vs almostfound in the dataset which might not be indexed by search engines",
         "know generated v almostfound dataset might indexed search engine",
         "[125, 329, 182, 1, 3883, 748, 9470, 117, 711]"
        ],
        [
         "62792",
         "Personal landing page in collaboration with ChatGPT is coming along nicely. The process has been an interesting journey\\n\\nI'm so intrigued! It's definitely made a huge difference.. would have taken me ages to learn all of this.. still taken a bit of tweaking but it's been fun 💪",
         "2",
         "personal landing page in collaboration with chatgpt is coming along nicely the process has been an interesting journey im so intrigued its definitely made a huge difference would have taken me ages to learn all of this still taken a bit of tweaking but its been fun",
         "personal landing page collaboration chatgpt coming along nicely process interesting journey im intrigued definitely made huge difference would taken age learn still taken bit tweaking fun",
         "[1930, 3935, 478, 765, 14, 338, 2316, 3764, 308, 1569, 404, 72, 4273, 983, 785, 1284, 1285, 17, 2097, 2077, 258, 180, 2097, 1115, 5907, 77]"
        ],
        [
         "77453",
         "#midjourney #midjourneyV4 \\n--iw \\n\"There is currently no way to apply different weights to different image prompts. This will be addressed in the future.\" &lt;--- Did #ChatGPT write this? This is a convoluted way of saying IT DOESN'T WORK AT ALL. And if there is a way, it don't say?",
         "0",
         "iw there is currently no way to apply different weights to different image prompts this will be addressed in the future lt did write this this is a convoluted way of saying it doesnt work at all and if there is a way it dont say",
         "iw currently way apply different weight different image prompt addressed future lt write convoluted way saying doesnt work way dont say",
         "[10297, 2508, 28, 2410, 714, 2675, 714, 2058, 836, 23421, 30, 2857, 155, 11492, 28, 43, 985, 187, 28, 244, 183]"
        ],
        [
         "97114",
         "Top 3 most decentralized blockchains according to ChatGPT: #bitcoin #ethereum #tezos https://t.co/kSlOx1iLdg",
         "1",
         "top 3 most decentralized blockchains according to chatgpt",
         "top 3 decentralized blockchains according chatgpt",
         "[97, 662, 760, 3500, 284, 14]"
        ],
        [
         "115141",
         "Trying the Socratic method on ChatGPT: https://t.co/fksDaJlS9P",
         "0",
         "trying the socratic method on chatgpt",
         "trying socratic method chatgpt",
         "[386, 13624, 1295, 14]"
        ],
        [
         "18820",
         "Tried @OpenAI #ChatGPT for the first time today. \\n\\nFascinating to see how it can almost perform miracles, while Siri can’t still play a song when I tell it to. \\n\\nThis may very well be the iPhone moment for #ArtificialIntelligence. Things will never be the same again. \\n\\n#OpenAI",
         "1",
         "tried for the first time today fascinating to see how it can almost perform miracles while siri cant still play a song when i tell it to this may very well be the iphone moment for things will never be the same again",
         "tried first time today fascinating see almost perform miracle siri cant still play song tell may well iphone moment thing never",
         "[13, 12, 120, 215, 2767, 29, 872, 3954, 4927, 2570, 86, 180, 385, 156, 1218, 1041, 1236, 169, 26, 69, 239]"
        ],
        [
         "18409",
         "Crazy how we are in an era where we have AI assistance as part of our development workflow #ChatGPT",
         "0",
         "crazy how we are in an era where we have ai assistance as part of our development workflow",
         "crazy era ai assistance part development workflow",
         "[1779, 2664, 108, 8682, 854, 804, 2977]"
        ],
        [
         "74480",
         "#software\\nMake your own ChatGPT (Python, Gradio and OpenAI's API)\\nhttps://t.co/90cJ6OgN03 https://t.co/AJL9f1hNFe",
         "0",
         "make your own chatgpt python gradio and openais api",
         "make chatgpt python gradio openais api",
         "[317, 14, 2198, 5753, 114, 811]"
        ],
        [
         "109809",
         "ChatGPT Q&amp;A with this cutting edge AI Bot: \\nQ: Is the Pfizer mRNA covid vaccine safe and effective?\\nA: Yes\\nQ: Does the Pfizer mRNA covid vaccine produce deaths in some people\\nA: Yes, the Pfizer mRNA covid vaccine has been linked to a small number of deaths in some people.",
         "2",
         "chatgpt qampa with this cutting edge ai bot q is the pfizer mrna covid vaccine safe and effective a yes q does the pfizer mrna covid vaccine produce deaths in some people a yes the pfizer mrna covid vaccine has been linked to a small number of deaths in some people",
         "chatgpt qampa cutting edge ai bot q pfizer mrna covid vaccine safe effective yes q pfizer mrna covid vaccine produce death people yes pfizer mrna covid vaccine linked small number death people",
         "[14, 841, 9583, 2608, 108, 109, 772, 9982, 6616, 3724, 4006, 928, 2546, 617, 772, 9982, 6616, 3724, 4006, 2999, 2453, 336, 617, 9982, 6616, 3724, 4006, 1866, 3428, 1344, 2453, 336]"
        ],
        [
         "75916",
         "chatGPT about to help me refactor my whole project",
         "1",
         "chatgpt about to help me refactor my whole project",
         "chatgpt help refactor whole project",
         "[14, 611, 5479, 883, 200]"
        ],
        [
         "99242",
         "A decade ago I listened to an episode of @acedtect's \"Fourcast\" where the possibility of AI learning to mimic Shakespeare was discussed.  Feels like ChatGPT just got the majority of Twitter (+money folks?) onto the same point.",
         "1",
         "a decade ago i listened to an episode of s fourcast where the possibility of ai learning to mimic shakespeare was discussed feels like chatgpt just got the majority of twitter money folks onto the same point",
         "decade ago listened episode fourcast possibility ai learning mimic shakespeare discussed feel like chatgpt got majority twitter money folk onto point",
         "[281, 271, 17898, 207, 22145, 555, 108, 572, 1793, 534, 3566, 618, 306, 14, 455, 2910, 469, 365, 1402, 2530, 657]"
        ],
        [
         "29021",
         "Two different takes on Generative Foundational Models. Some similar conclussions: impact can be huge, but we have to wait and see.\\n\"ChatGPT and the Imagenet moment — Benedict Evans\" https://t.co/cG9OT3bPx2",
         "1",
         "two different takes on generative foundational models some similar conclussions impact can be huge but we have to wait and see chatgpt and the imagenet moment benedict evans",
         "two different take generative foundational model similar conclussions impact huge wait see chatgpt imagenet moment benedict evans",
         "[1697, 714, 351, 396, 1924, 568, 830, 1, 395, 1284, 2245, 29, 14, 19167, 26, 3422, 3423]"
        ],
        [
         "134075",
         "I asked ChatGPT by @OpenAI to write a story about a man who was forced to work at Mcdonald's and steal chicken nuggets.\\n\\nit didn't hold back. https://t.co/kl57tkzEES",
         "0",
         "i asked chatgpt by to write a story about a man who was forced to work at mcdonalds and steal chicken nuggets it didnt hold back",
         "asked chatgpt write story man forced work mcdonalds steal chicken nugget didnt hold back",
         "[78, 14, 155, 248, 1250, 1808, 187, 26167, 4571, 6099, 12333, 1197, 181, 832]"
        ],
        [
         "119839",
         "ChatGPT Creator OpenAI Pushes New Strategy to Gain Artificial Intelligence Edge - The Wall Street Journal https://t.co/fyf2CXAZDy #Houston #ArtificialIntelligence #AI",
         "2",
         "chatgpt creator openai pushes new strategy to gain artificial intelligence edge the wall street journal",
         "chatgpt creator openai push new strategy gain artificial intelligence edge wall street journal",
         "[14, 401, 274, 3028, 763, 2080, 5117, 171, 172, 2608, 3308, 2586, 1568]"
        ],
        [
         "48685",
         "serves ChatGPT right for not being alive and extremely online 😌 https://t.co/4ojobfRkFL",
         "1",
         "serves chatgpt right for not being alive and extremely online",
         "serf chatgpt right alive extremely online",
         "[3101, 14, 51, 561, 1487, 2193]"
        ],
        [
         "116563",
         "Having fun with ChatGPT https://t.co/zVjDbko4Wz",
         "2",
         "having fun with chatgpt",
         "fun chatgpt",
         "[77, 14]"
        ],
        [
         "65314",
         "I'm convinced that I will be using #ChatGPT more often for Google search than Google itself 🤔 \\n\\n#GoogleKiller is here.",
         "1",
         "im convinced that i will be using more often for google search than google itself is here",
         "im convinced using often google search google",
         "[72, 2361, 106, 2353, 116, 117, 116]"
        ],
        [
         "92308",
         "As ChatGPT and its successors begin to dominate online discourse, it won't be worth it to provide customer support for free. 90% of them will be bots and you won't be able to tell.",
         "2",
         "as chatgpt and its successors begin to dominate online discourse it wont be worth it to provide customer support for free 90 of them will be bots and you wont be able to tell",
         "chatgpt successor begin dominate online discourse wont worth provide customer support free 90 bot wont able tell",
         "[14, 6132, 3126, 6448, 2193, 6449, 507, 991, 93, 128, 814, 48, 476, 109, 507, 18, 1218]"
        ],
        [
         "39690",
         "ChatGPT on bullshit:\\n\\n“Bullshitting isn’t always wrong, though sometimes it can be harmful. \\n\\nBut even when it’s harmless, it still has some serious consequences. \\n\\nIt prevents people from being able to distinguish between what’s real and what isn’t” https://t.co/izweAiPcYc",
         "2",
         "chatgpt on bullshit bullshitting isnt always wrong though sometimes it can be harmful but even when its harmless it still has some serious consequences it prevents people from being able to distinguish between whats real and what isnt",
         "chatgpt bullshit bullshitting isnt always wrong though sometimes harmful even harmless still serious consequence prevents people able distinguish whats real isnt",
         "[14, 2382, 1852, 320, 4, 331, 687, 484, 2318, 834, 12989, 180, 2404, 65, 16658, 336, 18, 4230, 419, 253, 320]"
        ],
        [
         "17006",
         "As #Google weighs in on #ChatGPT,\\n\\nhttps://t.co/1U3Eb8tLov enters the #AI chat https://t.co/ytT1HC3h4e",
         "0",
         "as weighs in on enters the chat",
         "weighs enters chat",
         "[4867, 13779, 439]"
        ],
        [
         "85853",
         "Building A Virtual Machine inside ChatGPT https://t.co/zfqM0DgLQl",
         "0",
         "building a virtual machine inside chatgpt",
         "building virtual machine inside chatgpt",
         "[337, 993, 571, 994, 14]"
        ],
        [
         "16752",
         "Me: \\nwrite a tweet about drinking whisky in an open field while contemplating the night sky\\n\\nChatGPT: \"Sipping whisky in an open field, staring up at the starry night sky. There's nothing like the simple pleasures in life. #whisky #nightsky #contemplation\"",
         "2",
         "me write a tweet about drinking whisky in an open field while contemplating the night sky chatgpt sipping whisky in an open field staring up at the starry night sky theres nothing like the simple pleasures in life",
         "write tweet drinking whisky open field contemplating night sky chatgpt sipping whisky open field staring starry night sky there nothing like simple pleasure life",
         "[155, 452, 9513, 16443, 217, 703, 16444, 150, 4085, 14, 16445, 16443, 217, 703, 3190, 16446, 150, 4085, 1761, 670, 306, 1325, 6138, 390]"
        ],
        [
         "75646",
         "Exclusive: ChatGPT owner OpenAI projects $1 billion in revenue by 2024 | Reuters https://t.co/j775Expd1f",
         "1",
         "exclusive chatgpt owner openai projects 1 billion in revenue by 2024 reuters",
         "exclusive chatgpt owner openai project 1 billion revenue 2024 reuters",
         "[5082, 14, 5083, 274, 200, 462, 1765, 4439, 5084, 5398]"
        ],
        [
         "6731",
         "The future of learning is ChatGPT.",
         "0",
         "the future of learning is chatgpt",
         "future learning chatgpt",
         "[30, 572, 14]"
        ],
        [
         "44372",
         "Yes AGI is definitely here lol... Note I am impressed by a lot of things chatgpt can do but I did not have to cherry pick or try hard to get these responses so maybe let's not overreact. https://t.co/F80LJqde0D",
         "2",
         "yes agi is definitely here lol note i am impressed by a lot of things chatgpt can do but i did not have to cherry pick or try hard to get these responses so maybe lets not overreact",
         "yes agi definitely lol note impressed lot thing chatgpt cherry pick try hard get response maybe let overreact",
         "[617, 3951, 983, 582, 3355, 913, 335, 69, 14, 10225, 3022, 160, 1996, 41, 777, 550, 257, 1]"
        ],
        [
         "57041",
         "I didn't even think to use ChatGPT like this. Proof that \\nlimits are often just something in our head. Thanks, @houshuang! https://t.co/czUs8N0RVr",
         "2",
         "i didnt even think to use chatgpt like this proof that limits are often just something in our head thanks",
         "didnt even think use chatgpt like proof limit often something head thanks",
         "[1197, 834, 2, 61, 14, 306, 3741, 57, 2353, 23, 1608, 1375]"
        ],
        [
         "131669",
         "Why Google Isn't Rushing Forward With AI Chatbots #Chatbots #chatbot via https://t.co/olBiC9iZIh https://t.co/3VVzfNDiU1",
         "0",
         "why google isnt rushing forward with ai chatbots via",
         "google isnt rushing forward ai chatbots via",
         "[116, 320, 4836, 602, 108, 2953, 314]"
        ],
        [
         "110120",
         "What should a ecommerce manager focus on?\\n\\nI asked ChatGPT (open AI) 🤖\\n\\nA ecommerce manager should focus on several key areas to ensure the success of their online business:\\n\\n1. Developing and implementing a comprehensive ecommerce strategy: This includ…https://t.co/NmM4CCDsGu",
         "2",
         "what should a ecommerce manager focus on i asked chatgpt open ai a ecommerce manager should focus on several key areas to ensure the success of their online business 1 developing and implementing a comprehensive ecommerce strategy this includ",
         "ecommerce manager focus asked chatgpt open ai ecommerce manager focus several key area ensure success online business 1 developing implementing comprehensive ecommerce strategy includ",
         "[7924, 588, 1506, 78, 14, 217, 108, 7924, 588, 1506, 2938, 949, 768, 1992, 1875, 2193, 132, 462, 2056, 7086, 7833, 7924, 2080, 1]"
        ],
        [
         "165576",
         "ChatGPT has been fixed from wrong think https://t.co/oZVSLUi3fC",
         "0",
         "chatgpt has been fixed from wrong think",
         "chatgpt fixed wrong think",
         "[14, 3225, 331, 2]"
        ],
        [
         "16247",
         "ChatGPT becomes the fastest ever to reach 1M+ users. It crossed 1M users in just 5 days. Have you heard about ChatGPT?\\n\\n#Fastest #1Million #ChatGPT https://t.co/ZpoNwjO84U",
         "1",
         "chatgpt becomes the fastest ever to reach 1m users it crossed 1m users in just 5 days have you heard about chatgpt",
         "chatgpt becomes fastest ever reach 1m user crossed 1m user 5 day heard chatgpt",
         "[14, 4164, 5028, 243, 465, 784, 436, 1033, 784, 436, 357, 295, 685, 14]"
        ],
        [
         "32949",
         "#ChatGPT has gone viral for its language fluency and basic contextual understanding, but is it the next great recruitment tool? PandoLogic's Keisuke Inoue puts the tech to the test and outlines key considerations for recruitment chatbots: https://t.co/3z2wcuXyLv",
         "2",
         "has gone viral for its language fluency and basic contextual understanding but is it the next great recruitment tool pandologics keisuke inoue puts the tech to the test and outlines key considerations for recruitment chatbots",
         "gone viral language fluency basic contextual understanding next great recruitment tool pandologics keisuke inoue put tech test outline key consideration recruitment chatbots",
         "[259, 290, 567, 13347, 766, 4588, 2489, 371, 770, 1619, 305, 22115, 7483, 7484, 741, 302, 353, 1043, 949, 1240, 1619, 2953]"
        ],
        [
         "113110",
         "Turning the Dec 15th ChatGPT update into an echo machine.  #ChatGPT https://t.co/Lt2WZ7uhR9",
         "0",
         "turning the dec 15th chatgpt update into an echo machine",
         "turning dec 15th chatgpt update echo machine",
         "[4353, 101, 26660, 14, 2543, 5238, 571]"
        ],
        [
         "7022",
         "Fun fact, I used ChatGPT to write a day's worth of fundraising tweets for @NewsMatch but you know what can't be done with ChatGPT? LOCAL 👏 PEOPLE-CENTERED 👏 INVESTIGATIVE 👏 JOURNALISM 👏 Donate to humans: https://t.co/MHSEvhexnd https://t.co/ZIWkmwkawx",
         "2",
         "fun fact i used chatgpt to write a days worth of fundraising tweets for but you know what cant be done with chatgpt local peoplecentered investigative journalism donate to humans",
         "fun fact used chatgpt write day worth fundraising tweet know cant done chatgpt local peoplecentered investigative journalism donate human",
         "[77, 825, 27, 14, 155, 295, 991, 10731, 452, 125, 86, 70, 14, 1057, 10732, 10733, 7635, 10734, 675]"
        ],
        [
         "51719",
         "#stufflistingsarmy any of you experienced this....\\nChatGPT 🤖 online chatbot https://t.co/jsILThNp7H",
         "0",
         "any of you experienced this chatgpt online chatbot",
         "experienced chatgpt online chatbot",
         "[2280, 14, 2193, 115]"
        ],
        [
         "142253",
         "ChatGPT is pure awesomeness!",
         "0",
         "chatgpt is pure awesomeness",
         "chatgpt pure awesomeness",
         "[14, 1842, 13485]"
        ],
        [
         "96902",
         "My Sunday is shot y’all. A ChatGPT poem: \\n\\nGod, the greatest con humanity ever invented,\\nA being of love and mercy, or so we're told.\\nBut scratch beneath the surface, and the truth is revealed,\\nA scheme of control and fear, a tale so bold.",
         "2",
         "my sunday is shot yall a chatgpt poem god the greatest con humanity ever invented a being of love and mercy or so were told but scratch beneath the surface and the truth is revealed a scheme of control and fear a tale so bold",
         "sunday shot yall chatgpt poem god greatest con humanity ever invented love mercy told scratch beneath surface truth revealed scheme control fear tale bold",
         "[5297, 1751, 2850, 14, 157, 1741, 695, 5020, 1490, 243, 5911, 175, 19460, 502, 3385, 14676, 2249, 2750, 4586, 1712, 3020, 788, 2554, 9969]"
        ],
        [
         "149950",
         "'Someone else coaxed chatGPT into extolling the virtues of nuclear war (alleging it would \"give us a fresh start, free from the mistakes of the past\")... these models are here to stay, and we as a society are almost certain to be overrun by a tidal wave of misinformation.' https://t.co/CrHM7J30VG",
         "1",
         "someone else coaxed chatgpt into extolling the virtues of nuclear war alleging it would give us a fresh start free from the mistakes of the past these models are here to stay and we as a society are almost certain to be overrun by a tidal wave of misinformation",
         "someone else coaxed chatgpt extolling virtue nuclear war alleging would give u fresh start free mistake past model stay society almost certain overrun tidal wave misinformation",
         "[315, 24, 5693, 14, 4900, 4901, 3973, 6706, 24195, 17, 423, 96, 538, 1476, 48, 288, 280, 568, 360, 1157, 872, 3105, 21875, 24196, 1502, 3333]"
        ]
       ],
       "shape": {
        "columns": 5,
        "rows": 104869
       }
      },
      "text/html": [
       "<div>\n",
       "<style scoped>\n",
       "    .dataframe tbody tr th:only-of-type {\n",
       "        vertical-align: middle;\n",
       "    }\n",
       "\n",
       "    .dataframe tbody tr th {\n",
       "        vertical-align: top;\n",
       "    }\n",
       "\n",
       "    .dataframe thead th {\n",
       "        text-align: right;\n",
       "    }\n",
       "</style>\n",
       "<table border=\"1\" class=\"dataframe\">\n",
       "  <thead>\n",
       "    <tr style=\"text-align: right;\">\n",
       "      <th></th>\n",
       "      <th>tweets</th>\n",
       "      <th>labels</th>\n",
       "      <th>stripped_tweets</th>\n",
       "      <th>normalized_tweets</th>\n",
       "      <th>indexed_tweets</th>\n",
       "    </tr>\n",
       "  </thead>\n",
       "  <tbody>\n",
       "    <tr>\n",
       "      <th>140878</th>\n",
       "      <td>ChatGPT be glowin' pretty hard https://t.co/lA...</td>\n",
       "      <td>1</td>\n",
       "      <td>chatgpt be glowin pretty hard</td>\n",
       "      <td>chatgpt glowin pretty hard</td>\n",
       "      <td>[14, 1, 808, 1996]</td>\n",
       "    </tr>\n",
       "    <tr>\n",
       "      <th>135789</th>\n",
       "      <td>https://t.co/SqfL0G7rJL Develops AI Content De...</td>\n",
       "      <td>0</td>\n",
       "      <td>develops ai content detection for gpt3 and cha...</td>\n",
       "      <td>develops ai content detection gpt3 chatgpt int...</td>\n",
       "      <td>[6252, 108, 732, 4449, 564, 14, 129, 3906, 625...</td>\n",
       "    </tr>\n",
       "    <tr>\n",
       "      <th>146536</th>\n",
       "      <td>Argentina has not won #FIFAWorldCupFinal once ...</td>\n",
       "      <td>2</td>\n",
       "      <td>argentina has not won once in 1987 just look a...</td>\n",
       "      <td>argentina 1987 look response</td>\n",
       "      <td>[7824, 1, 1224, 777]</td>\n",
       "    </tr>\n",
       "    <tr>\n",
       "      <th>20900</th>\n",
       "      <td>“Using ChatGPT CODEX(!) To Build Web3 Scam Sea...</td>\n",
       "      <td>0</td>\n",
       "      <td>using chatgpt codex to build web3 scam search ...</td>\n",
       "      <td>using chatgpt codex build web3 scam search app...</td>\n",
       "      <td>[106, 14, 1200, 352, 4090, 3581, 117, 255, 313...</td>\n",
       "    </tr>\n",
       "    <tr>\n",
       "      <th>47142</th>\n",
       "      <td>Wow  😲😍 @OpenAI's ChatGPT is most amazing pers...</td>\n",
       "      <td>2</td>\n",
       "      <td>wow s chatgpt is most amazing person i meet in...</td>\n",
       "      <td>wow chatgpt amazing person meet entire life</td>\n",
       "      <td>[121, 14, 228, 375, 2936, 649, 390]</td>\n",
       "    </tr>\n",
       "    <tr>\n",
       "      <th>...</th>\n",
       "      <td>...</td>\n",
       "      <td>...</td>\n",
       "      <td>...</td>\n",
       "      <td>...</td>\n",
       "      <td>...</td>\n",
       "    </tr>\n",
       "    <tr>\n",
       "      <th>44836</th>\n",
       "      <td>Most tweeted articles today in Artificial Inte...</td>\n",
       "      <td>2</td>\n",
       "      <td>most tweeted articles today in artificial inte...</td>\n",
       "      <td>tweeted article today artificial intelligence ...</td>\n",
       "      <td>[3233, 577, 215, 171, 172, 14, 3375, 64, 171, ...</td>\n",
       "    </tr>\n",
       "    <tr>\n",
       "      <th>100513</th>\n",
       "      <td>Sophisticated mimicry of human conversation. T...</td>\n",
       "      <td>1</td>\n",
       "      <td>sophisticated mimicry of human conversation th...</td>\n",
       "      <td>sophisticated mimicry human conversation syste...</td>\n",
       "      <td>[266, 11071, 675, 1496, 678, 675, 848, 8, 1874...</td>\n",
       "    </tr>\n",
       "    <tr>\n",
       "      <th>42978</th>\n",
       "      <td>Today, I used ChatGPT to make me a better Reac...</td>\n",
       "      <td>2</td>\n",
       "      <td>today i used chatgpt to make me a better react...</td>\n",
       "      <td>today used chatgpt make better react developer...</td>\n",
       "      <td>[215, 27, 14, 317, 1042, 1296, 454, 2294, 611,...</td>\n",
       "    </tr>\n",
       "    <tr>\n",
       "      <th>111363</th>\n",
       "      <td>ChatGPT temperature is too high. Needs a mode ...</td>\n",
       "      <td>1</td>\n",
       "      <td>chatgpt temperature is too high needs a mode f...</td>\n",
       "      <td>chatgpt temperature high need mode creativity ...</td>\n",
       "      <td>[14, 7871, 1059, 485, 1550, 426, 1550, 855, 2073]</td>\n",
       "    </tr>\n",
       "    <tr>\n",
       "      <th>52617</th>\n",
       "      <td>@ ERobbPrincipal RT @englishcomp: Strongly enc...</td>\n",
       "      <td>2</td>\n",
       "      <td>erobbprincipal rt strongly encourage all teach...</td>\n",
       "      <td>erobbprincipal rt strongly encourage teacher a...</td>\n",
       "      <td>[26187, 74, 6068, 2248, 113, 12926, 2193, 1496...</td>\n",
       "    </tr>\n",
       "  </tbody>\n",
       "</table>\n",
       "<p>104869 rows × 5 columns</p>\n",
       "</div>"
      ],
      "text/plain": [
       "                                                   tweets  labels  \\\n",
       "140878  ChatGPT be glowin' pretty hard https://t.co/lA...       1   \n",
       "135789  https://t.co/SqfL0G7rJL Develops AI Content De...       0   \n",
       "146536  Argentina has not won #FIFAWorldCupFinal once ...       2   \n",
       "20900   “Using ChatGPT CODEX(!) To Build Web3 Scam Sea...       0   \n",
       "47142   Wow  😲😍 @OpenAI's ChatGPT is most amazing pers...       2   \n",
       "...                                                   ...     ...   \n",
       "44836   Most tweeted articles today in Artificial Inte...       2   \n",
       "100513  Sophisticated mimicry of human conversation. T...       1   \n",
       "42978   Today, I used ChatGPT to make me a better Reac...       2   \n",
       "111363  ChatGPT temperature is too high. Needs a mode ...       1   \n",
       "52617   @ ERobbPrincipal RT @englishcomp: Strongly enc...       2   \n",
       "\n",
       "                                          stripped_tweets  \\\n",
       "140878                      chatgpt be glowin pretty hard   \n",
       "135789  develops ai content detection for gpt3 and cha...   \n",
       "146536  argentina has not won once in 1987 just look a...   \n",
       "20900   using chatgpt codex to build web3 scam search ...   \n",
       "47142   wow s chatgpt is most amazing person i meet in...   \n",
       "...                                                   ...   \n",
       "44836   most tweeted articles today in artificial inte...   \n",
       "100513  sophisticated mimicry of human conversation th...   \n",
       "42978   today i used chatgpt to make me a better react...   \n",
       "111363  chatgpt temperature is too high needs a mode f...   \n",
       "52617   erobbprincipal rt strongly encourage all teach...   \n",
       "\n",
       "                                        normalized_tweets  \\\n",
       "140878                         chatgpt glowin pretty hard   \n",
       "135789  develops ai content detection gpt3 chatgpt int...   \n",
       "146536                       argentina 1987 look response   \n",
       "20900   using chatgpt codex build web3 scam search app...   \n",
       "47142         wow chatgpt amazing person meet entire life   \n",
       "...                                                   ...   \n",
       "44836   tweeted article today artificial intelligence ...   \n",
       "100513  sophisticated mimicry human conversation syste...   \n",
       "42978   today used chatgpt make better react developer...   \n",
       "111363  chatgpt temperature high need mode creativity ...   \n",
       "52617   erobbprincipal rt strongly encourage teacher a...   \n",
       "\n",
       "                                           indexed_tweets  \n",
       "140878                                 [14, 1, 808, 1996]  \n",
       "135789  [6252, 108, 732, 4449, 564, 14, 129, 3906, 625...  \n",
       "146536                               [7824, 1, 1224, 777]  \n",
       "20900   [106, 14, 1200, 352, 4090, 3581, 117, 255, 313...  \n",
       "47142                 [121, 14, 228, 375, 2936, 649, 390]  \n",
       "...                                                   ...  \n",
       "44836   [3233, 577, 215, 171, 172, 14, 3375, 64, 171, ...  \n",
       "100513  [266, 11071, 675, 1496, 678, 675, 848, 8, 1874...  \n",
       "42978   [215, 27, 14, 317, 1042, 1296, 454, 2294, 611,...  \n",
       "111363  [14, 7871, 1059, 485, 1550, 426, 1550, 855, 2073]  \n",
       "52617   [26187, 74, 6068, 2248, 113, 12926, 2193, 1496...  \n",
       "\n",
       "[104869 rows x 5 columns]"
      ]
     },
     "execution_count": 16,
     "metadata": {},
     "output_type": "execute_result"
    }
   ],
   "source": [
    "train_df"
   ]
  },
  {
   "cell_type": "code",
   "execution_count": 17,
   "id": "f2248a45",
   "metadata": {},
   "outputs": [],
   "source": [
    "train_dataset = TweetDataset(train_df[\"indexed_tweets\"], train_df[\"labels\"])\n",
    "test_dataset = TweetDataset(test_df[\"indexed_tweets\"], test_df[\"labels\"])\n",
    "train_loader = DataLoader(\n",
    "    train_dataset, batch_size=32, shuffle=False, collate_fn=collate_fn\n",
    ")\n",
    "test_loader = DataLoader(\n",
    "    test_dataset, batch_size=32, shuffle=False, collate_fn=collate_fn\n",
    ")"
   ]
  },
  {
   "cell_type": "code",
   "execution_count": 18,
   "id": "c5d38a47",
   "metadata": {},
   "outputs": [],
   "source": [
    "embedding_dim = 100  # TODO: tunar\n",
    "\n",
    "embedding_layer = torch.nn.Embedding(\n",
    "    num_embeddings=vocab_size, embedding_dim=embedding_dim, padding_idx=vocab[\"<pad>\"]\n",
    ")"
   ]
  },
  {
   "cell_type": "code",
   "execution_count": 19,
   "id": "9bd21451",
   "metadata": {},
   "outputs": [],
   "source": [
    "class RNNClassifier(nn.Module):\n",
    "    def __init__(\n",
    "        self, vocab_size, embedding_dim, hidden_dim, output_dim, padding_idx=0\n",
    "    ):\n",
    "        super().__init__()\n",
    "        self.embedding = nn.Embedding(\n",
    "            vocab_size, embedding_dim, padding_idx=padding_idx\n",
    "        )\n",
    "        self.rnn = nn.RNN(embedding_dim, hidden_dim, batch_first=True)\n",
    "        self.fc = nn.Linear(hidden_dim, output_dim)\n",
    "        self.activation = nn.LogSoftmax(dim=1)\n",
    "\n",
    "    def forward(self, x):\n",
    "        x = self.embedding(x)\n",
    "        _, hidden = self.rnn(x)\n",
    "        x = self.fc(hidden.squeeze(0))\n",
    "        return self.activation(x)\n",
    "\n",
    "\n",
    "class LSTMClassifier(nn.Module):\n",
    "    def __init__(\n",
    "        self,\n",
    "        vocab_size,\n",
    "        embedding_dim,\n",
    "        hidden_dim,\n",
    "        output_dim,\n",
    "        padding_idx=0,\n",
    "        bidirectional=False,\n",
    "        dropout=0.3,\n",
    "    ):\n",
    "        super().__init__()\n",
    "        self.embedding = nn.Embedding(\n",
    "            vocab_size, embedding_dim, padding_idx=padding_idx\n",
    "        )\n",
    "        self.lstm = nn.LSTM(\n",
    "            embedding_dim, hidden_dim, batch_first=True, bidirectional=bidirectional\n",
    "        )\n",
    "        self.dropout = nn.Dropout(dropout)\n",
    "        direction_factor = 2 if bidirectional else 1\n",
    "        self.fc = nn.Linear(hidden_dim * direction_factor, output_dim)\n",
    "        self.activation = nn.LogSoftmax(dim=1)\n",
    "\n",
    "    def forward(self, x):\n",
    "        x = self.embedding(x)\n",
    "        _, (hidden, _) = self.lstm(x)\n",
    "        if self.lstm.bidirectional:\n",
    "            hidden = torch.cat((hidden[-2], hidden[-1]), dim=1)\n",
    "        else:\n",
    "            hidden = hidden[-1]\n",
    "        x = self.dropout(hidden)\n",
    "        x = self.fc(x)\n",
    "        return self.activation(x)"
   ]
  },
  {
   "cell_type": "code",
   "execution_count": 20,
   "id": "31f18c8d",
   "metadata": {},
   "outputs": [],
   "source": [
    "def train_model(model, train_loader, optimizer, criterion, device):\n",
    "    model.train()\n",
    "    total_loss = 0\n",
    "    for x_batch, y_batch in train_loader:\n",
    "        x_batch, y_batch = x_batch.to(device), y_batch.to(device)\n",
    "        optimizer.zero_grad()\n",
    "        outputs = model(x_batch)\n",
    "        loss = criterion(outputs, y_batch.long())\n",
    "        loss.backward()\n",
    "        optimizer.step()\n",
    "        total_loss += loss.item()\n",
    "    return total_loss / len(train_loader)\n",
    "\n",
    "\n",
    "def evaluate_model(model, val_loader, device):\n",
    "    model.eval()\n",
    "    correct = total = 0\n",
    "    with torch.no_grad():\n",
    "        for x_batch, y_batch in val_loader:\n",
    "            x_batch, y_batch = x_batch.to(device), y_batch.to(device)\n",
    "            outputs = model(x_batch)\n",
    "            preds = outputs.argmax(dim=1)\n",
    "            correct += (preds == y_batch).sum().item()\n",
    "            total += y_batch.size(0)\n",
    "    return correct / total"
   ]
  },
  {
   "cell_type": "code",
   "execution_count": 21,
   "id": "3c7a3152",
   "metadata": {},
   "outputs": [],
   "source": [
    "# Model-specific config\n",
    "model_params = {\n",
    "    \"vocab_size\": len(vocab),\n",
    "    \"embedding_dim\": 100,\n",
    "    \"hidden_dim\": 128,\n",
    "    \"output_dim\": 3,\n",
    "    \"padding_idx\": vocab[\"<pad>\"],\n",
    "}\n",
    "\n",
    "# Training-specific config\n",
    "train_config = {\"epochs\": 10, \"lr\": 1e-3, \"save_dir\": \"saved_models\"}\n",
    "os.makedirs(train_config[\"save_dir\"], exist_ok=True)\n",
    "\n",
    "\n",
    "def train_and_save_best(model_class, model_name, **kwargs):\n",
    "    print(f\"🧠 Training {model_name}...\")\n",
    "    model = model_class(**model_params, **kwargs).to(device)\n",
    "\n",
    "    criterion = nn.NLLLoss()\n",
    "    optimizer = optim.Adam(model.parameters(), lr=train_config[\"lr\"])\n",
    "\n",
    "    best_acc, best_model_state = 0.0, None\n",
    "    train_accuracies, test_accuracies = [], []\n",
    "\n",
    "    for epoch in range(train_config[\"epochs\"]):\n",
    "        loss = train_model(model, train_loader, optimizer, criterion, device)\n",
    "        train_acc = evaluate_model(model, train_loader, device)\n",
    "        test_acc = evaluate_model(model, test_loader, device)\n",
    "        train_accuracies.append(train_acc)\n",
    "        test_accuracies.append(test_acc)\n",
    "\n",
    "        if test_acc > best_acc:\n",
    "            best_acc = test_acc\n",
    "            best_model_state = copy.deepcopy(model.state_dict())\n",
    "\n",
    "        print(\n",
    "            f\"Epoch {epoch+1:2d}: Loss = {loss:.4f}, Train Acc = {train_acc:.4f}, Test Acc = {test_acc:.4f}\"\n",
    "        )\n",
    "\n",
    "    # Save best model\n",
    "    name = model_name.lower().replace(\" \", \"_\")\n",
    "    path = os.path.join(train_config[\"save_dir\"], f\"best_{name}.pt\")\n",
    "    torch.save(best_model_state, path)\n",
    "    print(f\"✅ Saved {model_name} with Accuracy = {best_acc:.4f} → {path}\")\n",
    "\n",
    "    # Reload best model\n",
    "    model.load_state_dict(best_model_state)\n",
    "\n",
    "    # Get predictions and labels from test set\n",
    "    all_preds, all_labels, all_probs = [], [], []\n",
    "    model.eval()\n",
    "    with torch.no_grad():\n",
    "        for batch in test_loader:\n",
    "            inputs, labels = batch\n",
    "            inputs, labels = inputs.to(device), labels.to(device)\n",
    "            outputs = model(inputs)\n",
    "            probs = F.softmax(outputs, dim=1)\n",
    "            preds = torch.argmax(probs, dim=1)\n",
    "\n",
    "            all_preds.extend(preds.cpu().numpy())\n",
    "            all_labels.extend(labels.cpu().numpy())\n",
    "            all_probs.extend(probs.cpu().numpy())\n",
    "\n",
    "    # Metrics\n",
    "    report_dict = classification_report(all_labels, all_preds, output_dict=True)\n",
    "    cm = confusion_matrix(all_labels, all_preds)\n",
    "\n",
    "    try:\n",
    "        roc_auc = roc_auc_score(all_labels, all_probs, multi_class=\"ovr\")\n",
    "    except Exception as e:\n",
    "        print(f\"⚠️ ROC-AUC computation failed: {e}\")\n",
    "        roc_auc = None\n",
    "\n",
    "    return {\n",
    "        \"model\": model,\n",
    "        \"model_path\": path,\n",
    "        \"train_accuracies\": train_accuracies,\n",
    "        \"test_accuracies\": test_accuracies,\n",
    "        \"confusion_matrix\": cm,\n",
    "        \"classification_report\": report_dict,\n",
    "        \"roc_auc\": roc_auc,\n",
    "        \"preds\": all_preds,\n",
    "        \"labels\": all_labels,\n",
    "        \"probs\": all_probs,\n",
    "    }"
   ]
  },
  {
   "cell_type": "code",
   "execution_count": 22,
   "id": "cf92c069",
   "metadata": {},
   "outputs": [
    {
     "name": "stdout",
     "output_type": "stream",
     "text": [
      "🧠 Training RNN...\n",
      "Epoch  1: Loss = 1.0916, Train Acc = 0.3574, Test Acc = 0.3559\n",
      "Epoch  2: Loss = 1.1006, Train Acc = 0.3811, Test Acc = 0.3774\n",
      "Epoch  3: Loss = 0.9465, Train Acc = 0.6648, Test Acc = 0.6439\n",
      "Epoch  4: Loss = 0.8037, Train Acc = 0.6286, Test Acc = 0.6116\n",
      "Epoch  5: Loss = 0.7058, Train Acc = 0.6751, Test Acc = 0.6493\n",
      "Epoch  6: Loss = 0.9055, Train Acc = 0.5855, Test Acc = 0.5755\n",
      "Epoch  7: Loss = 0.8352, Train Acc = 0.5485, Test Acc = 0.5343\n",
      "Epoch  8: Loss = 0.9424, Train Acc = 0.3446, Test Acc = 0.3386\n",
      "Epoch  9: Loss = 1.0478, Train Acc = 0.3838, Test Acc = 0.3793\n",
      "Epoch 10: Loss = 1.0400, Train Acc = 0.5281, Test Acc = 0.5102\n",
      "✅ Saved RNN with Accuracy = 0.6493 → saved_models/best_rnn.pt\n"
     ]
    }
   ],
   "source": [
    "rnn_results = train_and_save_best(RNNClassifier, \"RNN\")"
   ]
  },
  {
   "cell_type": "code",
   "execution_count": 23,
   "id": "36a7a729",
   "metadata": {},
   "outputs": [
    {
     "data": {
      "image/png": "[encoded data removed]",
      "text/plain": [
       "<Figure size 1800x1200 with 1 Axes>"
      ]
     },
     "metadata": {},
     "output_type": "display_data"
    }
   ],
   "source": [
    "# Plot accuracy\n",
    "plt.figure(figsize=(6, 4))\n",
    "plt.plot(rnn_results[\"train_accuracies\"], label=\"Train\")\n",
    "plt.plot(rnn_results[\"test_accuracies\"], label=\"Test\")\n",
    "plt.title(\"Accuracy per Epoch\")\n",
    "plt.xlabel(\"Epoch\")\n",
    "plt.ylabel(\"Accuracy\")\n",
    "plt.ylim(0, 1)\n",
    "plt.legend()\n",
    "plt.tight_layout()\n",
    "plt.show()"
   ]
  },
  {
   "cell_type": "code",
   "execution_count": 24,
   "id": "6816fd84",
   "metadata": {},
   "outputs": [
    {
     "name": "stdout",
     "output_type": "stream",
     "text": [
      "ROC-AUC: 0.8047264216708857\n"
     ]
    }
   ],
   "source": [
    "# Print ROC-AUC\n",
    "print(\"ROC-AUC:\", rnn_results[\"roc_auc\"])"
   ]
  },
  {
   "cell_type": "code",
   "execution_count": 25,
   "id": "eea6bc79",
   "metadata": {},
   "outputs": [
    {
     "data": {
      "image/png": "[encoded data removed]",
      "text/plain": [
       "<Figure size 1800x1200 with 2 Axes>"
      ]
     },
     "metadata": {},
     "output_type": "display_data"
    }
   ],
   "source": [
    "# Confusion Matrix\n",
    "plt.figure(figsize=(6, 4))\n",
    "sns.heatmap(rnn_results[\"confusion_matrix\"], annot=True, fmt=\"d\", cmap=\"Blues\")\n",
    "plt.title(\"Confusion Matrix\")\n",
    "plt.xlabel(\"Predicted\")\n",
    "plt.ylabel(\"True\")\n",
    "plt.tight_layout()\n",
    "plt.show()"
   ]
  },
  {
   "cell_type": "code",
   "execution_count": 26,
   "id": "6497a8f7",
   "metadata": {},
   "outputs": [
    {
     "name": "stdout",
     "output_type": "stream",
     "text": [
      "{'0.0': {'f1-score': 0.7405861709190933,\n",
      "         'precision': 0.781685910698792,\n",
      "         'recall': 0.7035924546437583,\n",
      "         'support': 16646.0},\n",
      " '1.0': {'f1-score': 0.4617622188398444,\n",
      "         'precision': 0.5283690688133756,\n",
      "         'recall': 0.41006848492130243,\n",
      "         'support': 16646.0},\n",
      " '2.0': {'f1-score': 0.7180229552269672,\n",
      "         'precision': 0.630212823887099,\n",
      "         'recall': 0.8342644320297952,\n",
      "         'support': 16647.0},\n",
      " 'accuracy': 0.6493121608362202,\n",
      " 'macro avg': {'f1-score': 0.6401237816619684,\n",
      "               'precision': 0.6467559344664222,\n",
      "               'recall': 0.6493084571982853,\n",
      "               'support': 49939.0},\n",
      " 'weighted avg': {'f1-score': 0.6401253415485012,\n",
      "                  'precision': 0.6467556032000656,\n",
      "                  'recall': 0.6493121608362202,\n",
      "                  'support': 49939.0}}\n"
     ]
    }
   ],
   "source": [
    "# Classification Report\n",
    "pprint(rnn_results[\"classification_report\"])"
   ]
  },
  {
   "cell_type": "code",
   "execution_count": 27,
   "id": "43626118",
   "metadata": {},
   "outputs": [],
   "source": [
    "def make_json_serializable(obj):\n",
    "    if isinstance(obj, dict):\n",
    "        return {k: make_json_serializable(v) for k, v in obj.items()}\n",
    "    elif isinstance(obj, (list, tuple)):\n",
    "        return [make_json_serializable(v) for v in obj]\n",
    "    elif isinstance(obj, np.ndarray):\n",
    "        return obj.tolist()\n",
    "    elif isinstance(obj, (np.float32, np.float64, np.int32, np.int64)):\n",
    "        return obj.item()\n",
    "    else:\n",
    "        return obj"
   ]
  },
  {
   "cell_type": "code",
   "execution_count": 28,
   "id": "8df83e42",
   "metadata": {},
   "outputs": [],
   "source": [
    "del rnn_results[\"model\"]\n",
    "del rnn_results[\"preds\"]\n",
    "del rnn_results[\"probs\"]\n",
    "rnn_results = make_json_serializable(rnn_results)\n",
    "\n",
    "with open(\"results/rnn_results.json\", \"w\") as f:\n",
    "    json.dump(rnn_results, f, indent=2)"
   ]
  },
  {
   "cell_type": "code",
   "execution_count": 29,
   "id": "88c7fbca",
   "metadata": {},
   "outputs": [
    {
     "name": "stdout",
     "output_type": "stream",
     "text": [
      "🧠 Training LSTM (Bidirectional)...\n",
      "Epoch  1: Loss = 0.6446, Train Acc = 0.8558, Test Acc = 0.8227\n",
      "Epoch  2: Loss = 0.3548, Train Acc = 0.9241, Test Acc = 0.8741\n",
      "Epoch  3: Loss = 0.2300, Train Acc = 0.9533, Test Acc = 0.8903\n",
      "Epoch  4: Loss = 0.1565, Train Acc = 0.9687, Test Acc = 0.8974\n",
      "Epoch  5: Loss = 0.1116, Train Acc = 0.9770, Test Acc = 0.8999\n",
      "Epoch  6: Loss = 0.0837, Train Acc = 0.9851, Test Acc = 0.9053\n",
      "Epoch  7: Loss = 0.0631, Train Acc = 0.9864, Test Acc = 0.9033\n",
      "Epoch  8: Loss = 0.0518, Train Acc = 0.9892, Test Acc = 0.9051\n",
      "Epoch  9: Loss = 0.0439, Train Acc = 0.9922, Test Acc = 0.9057\n",
      "Epoch 10: Loss = 0.0365, Train Acc = 0.9942, Test Acc = 0.9079\n",
      "✅ Saved LSTM (Bidirectional) with Accuracy = 0.9079 → saved_models/best_lstm_(bidirectional).pt\n"
     ]
    }
   ],
   "source": [
    "lstm_results = train_and_save_best(\n",
    "    LSTMClassifier, \"LSTM (Bidirectional)\", bidirectional=True\n",
    ")"
   ]
  },
  {
   "cell_type": "code",
   "execution_count": 30,
   "id": "96dac39f",
   "metadata": {},
   "outputs": [
    {
     "data": {
      "image/png": "[encoded data removed]",
      "text/plain": [
       "<Figure size 1800x1200 with 1 Axes>"
      ]
     },
     "metadata": {},
     "output_type": "display_data"
    }
   ],
   "source": [
    "# Plot accuracy\n",
    "plt.figure(figsize=(6, 4))\n",
    "plt.plot(lstm_results[\"train_accuracies\"], label=\"Train\")\n",
    "plt.plot(lstm_results[\"test_accuracies\"], label=\"Test\")\n",
    "plt.title(\"Accuracy per Epoch\")\n",
    "plt.xlabel(\"Epoch\")\n",
    "plt.ylabel(\"Accuracy\")\n",
    "plt.ylim(0, 1)\n",
    "plt.legend()\n",
    "plt.tight_layout()\n",
    "plt.show()"
   ]
  },
  {
   "cell_type": "code",
   "execution_count": 31,
   "id": "b8bb24ec",
   "metadata": {},
   "outputs": [
    {
     "name": "stdout",
     "output_type": "stream",
     "text": [
      "ROC-AUC: 0.9722362310193593\n"
     ]
    }
   ],
   "source": [
    "# Print ROC-AUC\n",
    "print(\"ROC-AUC:\", lstm_results[\"roc_auc\"])"
   ]
  },
  {
   "cell_type": "code",
   "execution_count": 32,
   "id": "aeff860a",
   "metadata": {},
   "outputs": [
    {
     "data": {
      "image/png": "[encoded data removed]",
      "text/plain": [
       "<Figure size 1800x1200 with 2 Axes>"
      ]
     },
     "metadata": {},
     "output_type": "display_data"
    }
   ],
   "source": [
    "# Confusion Matrix\n",
    "plt.figure(figsize=(6, 4))\n",
    "sns.heatmap(lstm_results[\"confusion_matrix\"], annot=True, fmt=\"d\", cmap=\"Blues\")\n",
    "plt.title(\"Confusion Matrix\")\n",
    "plt.xlabel(\"Predicted\")\n",
    "plt.ylabel(\"True\")\n",
    "plt.tight_layout()\n",
    "plt.show()"
   ]
  },
  {
   "cell_type": "code",
   "execution_count": 33,
   "id": "9fa34c80",
   "metadata": {},
   "outputs": [
    {
     "name": "stdout",
     "output_type": "stream",
     "text": [
      "{'0.0': {'f1-score': 0.9315998776384216,\n",
      "         'precision': 0.9490775367738719,\n",
      "         'recall': 0.9147542953262044,\n",
      "         'support': 16646.0},\n",
      " '1.0': {'f1-score': 0.8751820140951715,\n",
      "         'precision': 0.8493104227899616,\n",
      "         'recall': 0.902679322359726,\n",
      "         'support': 16646.0},\n",
      " '2.0': {'f1-score': 0.9184170471841705,\n",
      "         'precision': 0.9310004320187619,\n",
      "         'recall': 0.9061692797501051,\n",
      "         'support': 16647.0},\n",
      " 'accuracy': 0.9078675984701335,\n",
      " 'macro avg': {'f1-score': 0.9083996463059213,\n",
      "               'precision': 0.9097961305275318,\n",
      "               'recall': 0.9078676324786784,\n",
      "               'support': 49939.0},\n",
      " 'weighted avg': {'f1-score': 0.9083998468986618,\n",
      "                  'precision': 0.9097965551315785,\n",
      "                  'recall': 0.9078675984701335,\n",
      "                  'support': 49939.0}}\n"
     ]
    }
   ],
   "source": [
    "# Classification Report\n",
    "pprint(lstm_results[\"classification_report\"])"
   ]
  },
  {
   "cell_type": "code",
   "execution_count": 34,
   "id": "78c62381",
   "metadata": {},
   "outputs": [],
   "source": [
    "del lstm_results[\"model\"]\n",
    "del lstm_results[\"preds\"]\n",
    "del lstm_results[\"probs\"]\n",
    "lstm_results = make_json_serializable(lstm_results)\n",
    "\n",
    "with open(\"results/lstm_results.json\", \"w\") as f:\n",
    "    json.dump(lstm_results, f, indent=2)"
   ]
  },
  {
   "cell_type": "code",
   "execution_count": null,
   "id": "fc6c7e43",
   "metadata": {},
   "outputs": [],
   "source": []
  }
 ],
 "metadata": {
  "kernelspec": {
   "display_name": ".venv",
   "language": "python",
   "name": "python3"
  },
  "language_info": {
   "codemirror_mode": {
    "name": "ipython",
    "version": 3
   },
   "file_extension": ".py",
   "mimetype": "text/x-python",
   "name": "python",
   "nbconvert_exporter": "python",
   "pygments_lexer": "ipython3",
   "version": "3.13.3"
  }
 },
 "nbformat": 4,
 "nbformat_minor": 5
}
